{
 "cells": [
  {
   "cell_type": "code",
   "execution_count": 10,
   "metadata": {},
   "outputs": [],
   "source": [
    "import pandas as pd\n",
    "import numpy as np\n",
    "import matplotlib.pyplot as plt\n",
    "import seaborn as sns"
   ]
  },
  {
   "cell_type": "code",
   "execution_count": 4,
   "metadata": {},
   "outputs": [
    {
     "data": {
      "text/html": [
       "<div>\n",
       "<style scoped>\n",
       "    .dataframe tbody tr th:only-of-type {\n",
       "        vertical-align: middle;\n",
       "    }\n",
       "\n",
       "    .dataframe tbody tr th {\n",
       "        vertical-align: top;\n",
       "    }\n",
       "\n",
       "    .dataframe thead th {\n",
       "        text-align: right;\n",
       "    }\n",
       "</style>\n",
       "<table border=\"1\" class=\"dataframe\">\n",
       "  <thead>\n",
       "    <tr style=\"text-align: right;\">\n",
       "      <th></th>\n",
       "      <th>Congress</th>\n",
       "      <th>Years</th>\n",
       "      <th>Women total</th>\n",
       "      <th>Republican</th>\n",
       "      <th>% of women (Rep)</th>\n",
       "      <th>% of party (Rep)</th>\n",
       "      <th>Democratic</th>\n",
       "      <th>% of women (Dem)</th>\n",
       "      <th>% of party (Dem)</th>\n",
       "    </tr>\n",
       "  </thead>\n",
       "  <tbody>\n",
       "    <tr>\n",
       "      <th>0</th>\n",
       "      <td>65th</td>\n",
       "      <td>1917–1919</td>\n",
       "      <td>1</td>\n",
       "      <td>1</td>\n",
       "      <td>100%</td>\n",
       "      <td>0.5%</td>\n",
       "      <td>0</td>\n",
       "      <td>0%</td>\n",
       "      <td>0%</td>\n",
       "    </tr>\n",
       "    <tr>\n",
       "      <th>1</th>\n",
       "      <td>66th</td>\n",
       "      <td>1919–1921</td>\n",
       "      <td>0</td>\n",
       "      <td>0</td>\n",
       "      <td>0%</td>\n",
       "      <td>0%</td>\n",
       "      <td>0</td>\n",
       "      <td>0%</td>\n",
       "      <td>0%</td>\n",
       "    </tr>\n",
       "    <tr>\n",
       "      <th>2</th>\n",
       "      <td>67th</td>\n",
       "      <td>1921–1923</td>\n",
       "      <td>3</td>\n",
       "      <td>3</td>\n",
       "      <td>100%</td>\n",
       "      <td>0.3%</td>\n",
       "      <td>0</td>\n",
       "      <td>0%</td>\n",
       "      <td>0%</td>\n",
       "    </tr>\n",
       "    <tr>\n",
       "      <th>3</th>\n",
       "      <td>68th</td>\n",
       "      <td>1923–1925</td>\n",
       "      <td>1</td>\n",
       "      <td>1</td>\n",
       "      <td>100%</td>\n",
       "      <td>0.4%</td>\n",
       "      <td>0</td>\n",
       "      <td>0%</td>\n",
       "      <td>0%</td>\n",
       "    </tr>\n",
       "    <tr>\n",
       "      <th>4</th>\n",
       "      <td>69th</td>\n",
       "      <td>1925–1927</td>\n",
       "      <td>3</td>\n",
       "      <td>2</td>\n",
       "      <td>66.7%</td>\n",
       "      <td>0.4%</td>\n",
       "      <td>1</td>\n",
       "      <td>33.3%</td>\n",
       "      <td>0.5%</td>\n",
       "    </tr>\n",
       "  </tbody>\n",
       "</table>\n",
       "</div>"
      ],
      "text/plain": [
       "  Congress      Years  Women total  Republican % of women (Rep)  \\\n",
       "0     65th  1917–1919            1           1             100%   \n",
       "1     66th  1919–1921            0           0               0%   \n",
       "2     67th  1921–1923            3           3             100%   \n",
       "3     68th  1923–1925            1           1             100%   \n",
       "4     69th  1925–1927            3           2            66.7%   \n",
       "\n",
       "  % of party (Rep)  Democratic % of women (Dem) % of party (Dem)  \n",
       "0             0.5%           0               0%               0%  \n",
       "1               0%           0               0%               0%  \n",
       "2             0.3%           0               0%               0%  \n",
       "3             0.4%           0               0%               0%  \n",
       "4             0.4%           1            33.3%             0.5%  "
      ]
     },
     "execution_count": 4,
     "metadata": {},
     "output_type": "execute_result"
    }
   ],
   "source": [
    "df = pd.read_csv('../resources/womenReps.csv')\n",
    "df.head()"
   ]
  },
  {
   "cell_type": "code",
   "execution_count": 21,
   "metadata": {},
   "outputs": [],
   "source": [
    "df['StartYear'] = df['Years'].apply(lambda x: int(x[:4]))"
   ]
  },
  {
   "cell_type": "code",
   "execution_count": 14,
   "metadata": {},
   "outputs": [
    {
     "data": {
      "text/plain": [
       "array(['1917–1919', '1919–1921', '1921–1923', '1923–1925', '1925–1927',\n",
       "       '1927–1929', '1929–1931', '1931–1933', '1933–1935', '1935–1937',\n",
       "       '1937–1939', '1939–1941', '1941–1943', '1943–1945', '1945–1947',\n",
       "       '1947–1949', '1949–1951', '1951–1953', '1953–1955', '1955–1957',\n",
       "       '1957–1959', '1959–1961', '1961–1963', '1963–1965', '1965–1967',\n",
       "       '1967–1969', '1969–1971', '1971–1973', '1973–1975', '1975–1977',\n",
       "       '1977–1979', '1979–1981', '1981–1983', '1983–1985', '1985–1987',\n",
       "       '1987–1989', '1989–1991', '1991–1993', '1993–1995', '1995–1997',\n",
       "       '1997–1999', '1999–2001', '2001–2003', '2003–2005', '2005–2007',\n",
       "       '2007–2009', '2009–2011', '2011–2013', '2013–2015', '2015–2017',\n",
       "       '2017–2019'], dtype=object)"
      ]
     },
     "execution_count": 14,
     "metadata": {},
     "output_type": "execute_result"
    }
   ],
   "source": [
    "df['Years'].unique()"
   ]
  },
  {
   "cell_type": "markdown",
   "metadata": {},
   "source": [
    "Since 1917, the average number of women reps toal and in both parties"
   ]
  },
  {
   "cell_type": "code",
   "execution_count": 27,
   "metadata": {},
   "outputs": [
    {
     "data": {
      "text/plain": [
       "Women total    26.627451\n",
       "Republican      8.823529\n",
       "Democratic     17.803922\n",
       "dtype: float64"
      ]
     },
     "execution_count": 27,
     "metadata": {},
     "output_type": "execute_result"
    }
   ],
   "source": [
    "num = df[['Women total', 'Republican', 'Democratic']].mean()\n",
    "num"
   ]
  },
  {
   "cell_type": "markdown",
   "metadata": {},
   "source": [
    "From 1917 to 1999, the average number of women reps total and in both parties"
   ]
  },
  {
   "cell_type": "code",
   "execution_count": 28,
   "metadata": {},
   "outputs": [
    {
     "data": {
      "text/plain": [
       "Women total    16.119048\n",
       "Republican      6.214286\n",
       "Democratic      9.904762\n",
       "dtype: float64"
      ]
     },
     "execution_count": 28,
     "metadata": {},
     "output_type": "execute_result"
    }
   ],
   "source": [
    "num19 = df[['Women total', 'Republican', 'Democratic']][df['StartYear'] < 2000].mean()\n",
    "num19"
   ]
  },
  {
   "cell_type": "markdown",
   "metadata": {},
   "source": [
    "In the 21st century, the average number of women reps total and in both parties"
   ]
  },
  {
   "cell_type": "code",
   "execution_count": 29,
   "metadata": {},
   "outputs": [
    {
     "data": {
      "text/plain": [
       "Women total    75.666667\n",
       "Republican     21.000000\n",
       "Democratic     54.666667\n",
       "dtype: float64"
      ]
     },
     "execution_count": 29,
     "metadata": {},
     "output_type": "execute_result"
    }
   ],
   "source": [
    "num20 = df[['Women total', 'Republican', 'Democratic']][df['StartYear'] >= 2000].mean()\n",
    "num20"
   ]
  },
  {
   "cell_type": "markdown",
   "metadata": {},
   "source": [
    "Share of average reps, Republican 20th century"
   ]
  },
  {
   "cell_type": "code",
   "execution_count": 35,
   "metadata": {},
   "outputs": [
    {
     "data": {
      "text/plain": [
       "38.55243722304284"
      ]
     },
     "execution_count": 35,
     "metadata": {},
     "output_type": "execute_result"
    }
   ],
   "source": [
    "num19[1] / num19[0] * 100"
   ]
  },
  {
   "cell_type": "markdown",
   "metadata": {},
   "source": [
    "Share of average reps, Democrat 20th century"
   ]
  },
  {
   "cell_type": "code",
   "execution_count": 36,
   "metadata": {},
   "outputs": [
    {
     "data": {
      "text/plain": [
       "61.44756277695716"
      ]
     },
     "execution_count": 36,
     "metadata": {},
     "output_type": "execute_result"
    }
   ],
   "source": [
    "num19[2] / num19[0] * 100"
   ]
  },
  {
   "cell_type": "markdown",
   "metadata": {},
   "source": [
    "Share of average reps, Republican 21st century"
   ]
  },
  {
   "cell_type": "code",
   "execution_count": 37,
   "metadata": {},
   "outputs": [
    {
     "data": {
      "text/plain": [
       "27.75330396475771"
      ]
     },
     "execution_count": 37,
     "metadata": {},
     "output_type": "execute_result"
    }
   ],
   "source": [
    "num20[1] / num20[0] * 100"
   ]
  },
  {
   "cell_type": "markdown",
   "metadata": {},
   "source": [
    "Share of average reps, Democrat 21st century"
   ]
  },
  {
   "cell_type": "code",
   "execution_count": 38,
   "metadata": {},
   "outputs": [
    {
     "data": {
      "text/plain": [
       "72.24669603524228"
      ]
     },
     "execution_count": 38,
     "metadata": {},
     "output_type": "execute_result"
    }
   ],
   "source": [
    "num20[2] / num20[0] * 100"
   ]
  },
  {
   "cell_type": "markdown",
   "metadata": {},
   "source": [
    "The share of female representatives shifted to the Democrats.  \n",
    "If the point of the visualization is to show party discrepancies, this share of representatives could be useful.  \n",
    "If the point is to show the lack of female representatives generally, the share by party is a distraction."
   ]
  },
  {
   "cell_type": "code",
   "execution_count": 47,
   "metadata": {},
   "outputs": [
    {
     "data": {
      "text/plain": [
       "Text(0.5,1,'Total Women Reps')"
      ]
     },
     "execution_count": 47,
     "metadata": {},
     "output_type": "execute_result"
    },
    {
     "data": {
      "image/png": "[encoded data removed]",
      "text/plain": [
       "<Figure size 720x360 with 1 Axes>"
      ]
     },
     "metadata": {
      "needs_background": "light"
     },
     "output_type": "display_data"
    }
   ],
   "source": [
    "fig = plt.figure(figsize=[10, 5])\n",
    "axs = fig.add_subplot(111)\n",
    "axs.bar(x = df['StartYear'], height = df['Women total'], color = 'purple')\n",
    "axs.set_title('Total Women Reps')"
   ]
  },
  {
   "cell_type": "code",
   "execution_count": 79,
   "metadata": {},
   "outputs": [
    {
     "data": {
      "text/plain": [
       "Text(0,0.5,'Number of reps')"
      ]
     },
     "execution_count": 79,
     "metadata": {},
     "output_type": "execute_result"
    },
    {
     "data": {
      "image/png": "[encoded data removed]",
      "text/plain": [
       "<Figure size 720x360 with 1 Axes>"
      ]
     },
     "metadata": {
      "needs_background": "light"
     },
     "output_type": "display_data"
    }
   ],
   "source": [
    "fig = plt.figure(figsize=[10, 5])\n",
    "axs = fig.add_subplot(111)\n",
    "p1 = axs.bar(x = df['StartYear'], height = df['Democratic'], color = 'blue')\n",
    "p2 = axs.bar(x = df['StartYear'], height = df['Republican'], bottom = df['Democratic'], color = 'red')\n",
    "axs.set_title('Women Reps by party')\n",
    "plt.legend((p1[0], p2[0]), ('Democrat', 'Republican'))\n",
    "plt.ylabel('Number of reps')"
   ]
  },
  {
   "cell_type": "markdown",
   "metadata": {},
   "source": [
    "It looks like the share of female reps by party has stayed similar.  \n",
    "There was a big jump in '93, which was the start of the Clinton era. The number of Democratic women jumped ~40%."
   ]
  },
  {
   "cell_type": "code",
   "execution_count": 75,
   "metadata": {},
   "outputs": [],
   "source": [
    "df['PercOfWomenDem'] = df['% of women (Dem)'].apply(lambda x: float(x[:-1]))"
   ]
  },
  {
   "cell_type": "code",
   "execution_count": 76,
   "metadata": {},
   "outputs": [],
   "source": [
    "df['PercOfWomenRepub'] = df['% of women (Rep)'].apply(lambda x: float(x[:-1]))"
   ]
  },
  {
   "cell_type": "code",
   "execution_count": 108,
   "metadata": {},
   "outputs": [
    {
     "data": {
      "image/png": "[encoded data removed]",
      "text/plain": [
       "<Figure size 720x360 with 1 Axes>"
      ]
     },
     "metadata": {
      "needs_background": "light"
     },
     "output_type": "display_data"
    }
   ],
   "source": [
    "fig = plt.figure(figsize=[10, 5])\n",
    "axs = fig.add_subplot(111)\n",
    "p1 = axs.bar(x = df['StartYear'], height = df['PercOfWomenDem'], color = '#7979e5')\n",
    "p2 = axs.bar(x = df['StartYear'], height = df['PercOfWomenRepub'], bottom = df['PercOfWomenDem'], color = '#ea7777')\n",
    "axs.set_title('Women Reps by party')\n",
    "plt.legend((p1[0], p2[0]), ('Democrat', 'Republican'), bbox_to_anchor=(1.18, .6))\n",
    "plt.ylabel('Share of reps')\n",
    "axs.set_facecolor('#eeeeee')"
   ]
  },
  {
   "cell_type": "markdown",
   "metadata": {},
   "source": [
    "The number of female Democrat reps may have jumped in '93, but the shares of women changed more the previous cycle in '91.  \n",
    "There looks like a trend towards a greater share in the Democratic party."
   ]
  },
  {
   "cell_type": "markdown",
   "metadata": {},
   "source": [
    "I think that comparing the parties like this is interesting but missing the forest for the trees.  \n",
    "It is great that more women are getting elected, but the goal is equality.  \n",
    "Try to compare the numbers to total parity."
   ]
  },
  {
   "cell_type": "code",
   "execution_count": 9,
   "metadata": {},
   "outputs": [
    {
     "data": {
      "text/plain": [
       "Index(['Congress', 'Years', 'Women total', 'Republican', '% of women (Rep)',\n",
       "       '% of party (Rep)', 'Democratic', '% of women (Dem)',\n",
       "       '% of party (Dem)'],\n",
       "      dtype='object')"
      ]
     },
     "execution_count": 9,
     "metadata": {},
     "output_type": "execute_result"
    }
   ],
   "source": [
    "df.columns"
   ]
  }
 ],
 "metadata": {
  "kernelspec": {
   "display_name": "Python 3",
   "language": "python",
   "name": "python3"
  },
  "language_info": {
   "codemirror_mode": {
    "name": "ipython",
    "version": 3
   },
   "file_extension": ".py",
   "mimetype": "text/x-python",
   "name": "python",
   "nbconvert_exporter": "python",
   "pygments_lexer": "ipython3",
   "version": "3.7.0"
  }
 },
 "nbformat": 4,
 "nbformat_minor": 2
}
