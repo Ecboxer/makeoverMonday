{
 "cells": [
  {
   "cell_type": "code",
   "execution_count": 298,
   "metadata": {},
   "outputs": [],
   "source": [
    "import pandas as pd\n",
    "import numpy as np\n",
    "import matplotlib.pyplot as plt\n",
    "import seaborn as sns"
   ]
  },
  {
   "cell_type": "code",
   "execution_count": 299,
   "metadata": {},
   "outputs": [
    {
     "data": {
      "text/html": [
       "<div>\n",
       "<style scoped>\n",
       "    .dataframe tbody tr th:only-of-type {\n",
       "        vertical-align: middle;\n",
       "    }\n",
       "\n",
       "    .dataframe tbody tr th {\n",
       "        vertical-align: top;\n",
       "    }\n",
       "\n",
       "    .dataframe thead th {\n",
       "        text-align: right;\n",
       "    }\n",
       "</style>\n",
       "<table border=\"1\" class=\"dataframe\">\n",
       "  <thead>\n",
       "    <tr style=\"text-align: right;\">\n",
       "      <th></th>\n",
       "      <th>RespID</th>\n",
       "      <th>Q0_Gender</th>\n",
       "      <th>Q0_Generation</th>\n",
       "      <th>Q0_Location</th>\n",
       "      <th>Q0_Org</th>\n",
       "      <th>Q0_GeoFocus</th>\n",
       "      <th>Qtype</th>\n",
       "      <th>Question Grouping</th>\n",
       "      <th>Wording</th>\n",
       "      <th>Question ID</th>\n",
       "      <th>...</th>\n",
       "      <th>Unnamed: 544</th>\n",
       "      <th>Unnamed: 545</th>\n",
       "      <th>Unnamed: 546</th>\n",
       "      <th>Unnamed: 547</th>\n",
       "      <th>Unnamed: 548</th>\n",
       "      <th>Unnamed: 549</th>\n",
       "      <th>Unnamed: 550</th>\n",
       "      <th>Unnamed: 551</th>\n",
       "      <th>Unnamed: 552</th>\n",
       "      <th>Unnamed: 553</th>\n",
       "    </tr>\n",
       "  </thead>\n",
       "  <tbody>\n",
       "    <tr>\n",
       "      <th>0</th>\n",
       "      <td>1</td>\n",
       "      <td>Female</td>\n",
       "      <td>30-49</td>\n",
       "      <td>No answer (International)</td>\n",
       "      <td>NGO - girls/women's rights ARE sole focus</td>\n",
       "      <td>International</td>\n",
       "      <td>Multi-punch</td>\n",
       "      <td>What should be the three biggest priorities today in relation to gender equality?</td>\n",
       "      <td>1= top 3 priority; 0=not a top priority</td>\n",
       "      <td>@q4@1</td>\n",
       "      <td>...</td>\n",
       "      <td>NaN</td>\n",
       "      <td>NaN</td>\n",
       "      <td>NaN</td>\n",
       "      <td>NaN</td>\n",
       "      <td>NaN</td>\n",
       "      <td>NaN</td>\n",
       "      <td>NaN</td>\n",
       "      <td>NaN</td>\n",
       "      <td>NaN</td>\n",
       "      <td>NaN</td>\n",
       "    </tr>\n",
       "    <tr>\n",
       "      <th>1</th>\n",
       "      <td>1</td>\n",
       "      <td>Female</td>\n",
       "      <td>30-49</td>\n",
       "      <td>No answer (International)</td>\n",
       "      <td>NGO - girls/women's rights ARE sole focus</td>\n",
       "      <td>International</td>\n",
       "      <td>Multi-punch</td>\n",
       "      <td>What should be the three biggest priorities today in relation to gender equality?</td>\n",
       "      <td>1= top 3 priority; 0=not a top priority</td>\n",
       "      <td>@q4@2</td>\n",
       "      <td>...</td>\n",
       "      <td>NaN</td>\n",
       "      <td>NaN</td>\n",
       "      <td>NaN</td>\n",
       "      <td>NaN</td>\n",
       "      <td>NaN</td>\n",
       "      <td>NaN</td>\n",
       "      <td>NaN</td>\n",
       "      <td>NaN</td>\n",
       "      <td>NaN</td>\n",
       "      <td>NaN</td>\n",
       "    </tr>\n",
       "    <tr>\n",
       "      <th>2</th>\n",
       "      <td>1</td>\n",
       "      <td>Female</td>\n",
       "      <td>30-49</td>\n",
       "      <td>No answer (International)</td>\n",
       "      <td>NGO - girls/women's rights ARE sole focus</td>\n",
       "      <td>International</td>\n",
       "      <td>Multi-punch</td>\n",
       "      <td>What should be the three biggest priorities today in relation to gender equality?</td>\n",
       "      <td>1= top 3 priority; 0=not a top priority</td>\n",
       "      <td>@q4@3</td>\n",
       "      <td>...</td>\n",
       "      <td>NaN</td>\n",
       "      <td>NaN</td>\n",
       "      <td>NaN</td>\n",
       "      <td>NaN</td>\n",
       "      <td>NaN</td>\n",
       "      <td>NaN</td>\n",
       "      <td>NaN</td>\n",
       "      <td>NaN</td>\n",
       "      <td>NaN</td>\n",
       "      <td>NaN</td>\n",
       "    </tr>\n",
       "    <tr>\n",
       "      <th>3</th>\n",
       "      <td>1</td>\n",
       "      <td>Female</td>\n",
       "      <td>30-49</td>\n",
       "      <td>No answer (International)</td>\n",
       "      <td>NGO - girls/women's rights ARE sole focus</td>\n",
       "      <td>International</td>\n",
       "      <td>Multi-punch</td>\n",
       "      <td>What should be the three biggest priorities today in relation to gender equality?</td>\n",
       "      <td>1= top 3 priority; 0=not a top priority</td>\n",
       "      <td>@q4@4</td>\n",
       "      <td>...</td>\n",
       "      <td>NaN</td>\n",
       "      <td>NaN</td>\n",
       "      <td>NaN</td>\n",
       "      <td>NaN</td>\n",
       "      <td>NaN</td>\n",
       "      <td>NaN</td>\n",
       "      <td>NaN</td>\n",
       "      <td>NaN</td>\n",
       "      <td>NaN</td>\n",
       "      <td>NaN</td>\n",
       "    </tr>\n",
       "    <tr>\n",
       "      <th>4</th>\n",
       "      <td>1</td>\n",
       "      <td>Female</td>\n",
       "      <td>30-49</td>\n",
       "      <td>No answer (International)</td>\n",
       "      <td>NGO - girls/women's rights ARE sole focus</td>\n",
       "      <td>International</td>\n",
       "      <td>Multi-punch</td>\n",
       "      <td>What should be the three biggest priorities today in relation to gender equality?</td>\n",
       "      <td>1= top 3 priority; 0=not a top priority</td>\n",
       "      <td>@q4@5</td>\n",
       "      <td>...</td>\n",
       "      <td>NaN</td>\n",
       "      <td>NaN</td>\n",
       "      <td>NaN</td>\n",
       "      <td>NaN</td>\n",
       "      <td>NaN</td>\n",
       "      <td>NaN</td>\n",
       "      <td>NaN</td>\n",
       "      <td>NaN</td>\n",
       "      <td>NaN</td>\n",
       "      <td>NaN</td>\n",
       "    </tr>\n",
       "  </tbody>\n",
       "</table>\n",
       "<p>5 rows × 554 columns</p>\n",
       "</div>"
      ],
      "text/plain": [
       "   RespID Q0_Gender Q0_Generation                Q0_Location  \\\n",
       "0       1    Female         30-49  No answer (International)   \n",
       "1       1    Female         30-49  No answer (International)   \n",
       "2       1    Female         30-49  No answer (International)   \n",
       "3       1    Female         30-49  No answer (International)   \n",
       "4       1    Female         30-49  No answer (International)   \n",
       "\n",
       "                                      Q0_Org    Q0_GeoFocus        Qtype  \\\n",
       "0  NGO - girls/women's rights ARE sole focus  International  Multi-punch   \n",
       "1  NGO - girls/women's rights ARE sole focus  International  Multi-punch   \n",
       "2  NGO - girls/women's rights ARE sole focus  International  Multi-punch   \n",
       "3  NGO - girls/women's rights ARE sole focus  International  Multi-punch   \n",
       "4  NGO - girls/women's rights ARE sole focus  International  Multi-punch   \n",
       "\n",
       "                                                                   Question Grouping  \\\n",
       "0  What should be the three biggest priorities today in relation to gender equality?   \n",
       "1  What should be the three biggest priorities today in relation to gender equality?   \n",
       "2  What should be the three biggest priorities today in relation to gender equality?   \n",
       "3  What should be the three biggest priorities today in relation to gender equality?   \n",
       "4  What should be the three biggest priorities today in relation to gender equality?   \n",
       "\n",
       "                                   Wording Question ID      ...       \\\n",
       "0  1= top 3 priority; 0=not a top priority       @q4@1      ...        \n",
       "1  1= top 3 priority; 0=not a top priority       @q4@2      ...        \n",
       "2  1= top 3 priority; 0=not a top priority       @q4@3      ...        \n",
       "3  1= top 3 priority; 0=not a top priority       @q4@4      ...        \n",
       "4  1= top 3 priority; 0=not a top priority       @q4@5      ...        \n",
       "\n",
       "   Unnamed: 544 Unnamed: 545  Unnamed: 546  Unnamed: 547  Unnamed: 548  \\\n",
       "0           NaN          NaN           NaN           NaN           NaN   \n",
       "1           NaN          NaN           NaN           NaN           NaN   \n",
       "2           NaN          NaN           NaN           NaN           NaN   \n",
       "3           NaN          NaN           NaN           NaN           NaN   \n",
       "4           NaN          NaN           NaN           NaN           NaN   \n",
       "\n",
       "   Unnamed: 549  Unnamed: 550  Unnamed: 551  Unnamed: 552  Unnamed: 553  \n",
       "0           NaN           NaN           NaN           NaN           NaN  \n",
       "1           NaN           NaN           NaN           NaN           NaN  \n",
       "2           NaN           NaN           NaN           NaN           NaN  \n",
       "3           NaN           NaN           NaN           NaN           NaN  \n",
       "4           NaN           NaN           NaN           NaN           NaN  \n",
       "\n",
       "[5 rows x 554 columns]"
      ]
     },
     "execution_count": 299,
     "metadata": {},
     "output_type": "execute_result"
    }
   ],
   "source": [
    "df = pd.read_csv('../resources/EM2030AdvocatesSurvey.csv')\n",
    "df.head()"
   ]
  },
  {
   "cell_type": "code",
   "execution_count": 300,
   "metadata": {},
   "outputs": [
    {
     "data": {
      "text/plain": [
       "(11647, 554)"
      ]
     },
     "execution_count": 300,
     "metadata": {},
     "output_type": "execute_result"
    }
   ],
   "source": [
    "df.shape"
   ]
  },
  {
   "cell_type": "code",
   "execution_count": 301,
   "metadata": {},
   "outputs": [],
   "source": [
    "pd.set_option('max_colwidth', 100)"
   ]
  },
  {
   "cell_type": "code",
   "execution_count": 302,
   "metadata": {},
   "outputs": [
    {
     "data": {
      "text/plain": [
       "Index(['RespID', 'Q0_Gender', 'Q0_Generation', 'Q0_Location', 'Q0_Org',\n",
       "       'Q0_GeoFocus', 'Qtype', 'Question Grouping', 'Wording', 'Question ID',\n",
       "       ...\n",
       "       'Unnamed: 544', 'Unnamed: 545', 'Unnamed: 546', 'Unnamed: 547',\n",
       "       'Unnamed: 548', 'Unnamed: 549', 'Unnamed: 550', 'Unnamed: 551',\n",
       "       'Unnamed: 552', 'Unnamed: 553'],\n",
       "      dtype='object', length=554)"
      ]
     },
     "execution_count": 302,
     "metadata": {},
     "output_type": "execute_result"
    }
   ],
   "source": [
    "df.columns"
   ]
  },
  {
   "cell_type": "code",
   "execution_count": 303,
   "metadata": {},
   "outputs": [
    {
     "data": {
      "text/plain": [
       "Index(['RespID', 'Q0_Gender', 'Q0_Generation', 'Q0_Location', 'Q0_Org',\n",
       "       'Q0_GeoFocus', 'Qtype', 'Question Grouping', 'Wording', 'Question ID',\n",
       "       'Value', 'Labels', 'Unnamed: 12'],\n",
       "      dtype='object')"
      ]
     },
     "execution_count": 303,
     "metadata": {},
     "output_type": "execute_result"
    }
   ],
   "source": [
    "df.columns[:13]"
   ]
  },
  {
   "cell_type": "code",
   "execution_count": 304,
   "metadata": {},
   "outputs": [],
   "source": [
    "keep = df.columns[:12]"
   ]
  },
  {
   "cell_type": "code",
   "execution_count": 305,
   "metadata": {},
   "outputs": [],
   "source": [
    "df = df[keep]"
   ]
  },
  {
   "cell_type": "code",
   "execution_count": 306,
   "metadata": {},
   "outputs": [
    {
     "data": {
      "text/html": [
       "<div>\n",
       "<style scoped>\n",
       "    .dataframe tbody tr th:only-of-type {\n",
       "        vertical-align: middle;\n",
       "    }\n",
       "\n",
       "    .dataframe tbody tr th {\n",
       "        vertical-align: top;\n",
       "    }\n",
       "\n",
       "    .dataframe thead th {\n",
       "        text-align: right;\n",
       "    }\n",
       "</style>\n",
       "<table border=\"1\" class=\"dataframe\">\n",
       "  <thead>\n",
       "    <tr style=\"text-align: right;\">\n",
       "      <th></th>\n",
       "      <th>RespID</th>\n",
       "      <th>Q0_Gender</th>\n",
       "      <th>Q0_Generation</th>\n",
       "      <th>Q0_Location</th>\n",
       "      <th>Q0_Org</th>\n",
       "      <th>Q0_GeoFocus</th>\n",
       "      <th>Qtype</th>\n",
       "      <th>Question Grouping</th>\n",
       "      <th>Wording</th>\n",
       "      <th>Question ID</th>\n",
       "      <th>Value</th>\n",
       "      <th>Labels</th>\n",
       "    </tr>\n",
       "  </thead>\n",
       "  <tbody>\n",
       "    <tr>\n",
       "      <th>0</th>\n",
       "      <td>1</td>\n",
       "      <td>Female</td>\n",
       "      <td>30-49</td>\n",
       "      <td>No answer (International)</td>\n",
       "      <td>NGO - girls/women's rights ARE sole focus</td>\n",
       "      <td>International</td>\n",
       "      <td>Multi-punch</td>\n",
       "      <td>What should be the three biggest priorities today in relation to gender equality?</td>\n",
       "      <td>1= top 3 priority; 0=not a top priority</td>\n",
       "      <td>@q4@1</td>\n",
       "      <td>1</td>\n",
       "      <td>Sexual and reproductive health and rights</td>\n",
       "    </tr>\n",
       "    <tr>\n",
       "      <th>1</th>\n",
       "      <td>1</td>\n",
       "      <td>Female</td>\n",
       "      <td>30-49</td>\n",
       "      <td>No answer (International)</td>\n",
       "      <td>NGO - girls/women's rights ARE sole focus</td>\n",
       "      <td>International</td>\n",
       "      <td>Multi-punch</td>\n",
       "      <td>What should be the three biggest priorities today in relation to gender equality?</td>\n",
       "      <td>1= top 3 priority; 0=not a top priority</td>\n",
       "      <td>@q4@2</td>\n",
       "      <td>0</td>\n",
       "      <td>no Access to comprehensive health services</td>\n",
       "    </tr>\n",
       "    <tr>\n",
       "      <th>2</th>\n",
       "      <td>1</td>\n",
       "      <td>Female</td>\n",
       "      <td>30-49</td>\n",
       "      <td>No answer (International)</td>\n",
       "      <td>NGO - girls/women's rights ARE sole focus</td>\n",
       "      <td>International</td>\n",
       "      <td>Multi-punch</td>\n",
       "      <td>What should be the three biggest priorities today in relation to gender equality?</td>\n",
       "      <td>1= top 3 priority; 0=not a top priority</td>\n",
       "      <td>@q4@3</td>\n",
       "      <td>0</td>\n",
       "      <td>no Reducing gender-based violence</td>\n",
       "    </tr>\n",
       "    <tr>\n",
       "      <th>3</th>\n",
       "      <td>1</td>\n",
       "      <td>Female</td>\n",
       "      <td>30-49</td>\n",
       "      <td>No answer (International)</td>\n",
       "      <td>NGO - girls/women's rights ARE sole focus</td>\n",
       "      <td>International</td>\n",
       "      <td>Multi-punch</td>\n",
       "      <td>What should be the three biggest priorities today in relation to gender equality?</td>\n",
       "      <td>1= top 3 priority; 0=not a top priority</td>\n",
       "      <td>@q4@4</td>\n",
       "      <td>1</td>\n",
       "      <td>Equitable and quality education at all levels</td>\n",
       "    </tr>\n",
       "    <tr>\n",
       "      <th>4</th>\n",
       "      <td>1</td>\n",
       "      <td>Female</td>\n",
       "      <td>30-49</td>\n",
       "      <td>No answer (International)</td>\n",
       "      <td>NGO - girls/women's rights ARE sole focus</td>\n",
       "      <td>International</td>\n",
       "      <td>Multi-punch</td>\n",
       "      <td>What should be the three biggest priorities today in relation to gender equality?</td>\n",
       "      <td>1= top 3 priority; 0=not a top priority</td>\n",
       "      <td>@q4@5</td>\n",
       "      <td>0</td>\n",
       "      <td>no Economic empowerment, access to land and financial inclusion</td>\n",
       "    </tr>\n",
       "  </tbody>\n",
       "</table>\n",
       "</div>"
      ],
      "text/plain": [
       "   RespID Q0_Gender Q0_Generation                Q0_Location  \\\n",
       "0       1    Female         30-49  No answer (International)   \n",
       "1       1    Female         30-49  No answer (International)   \n",
       "2       1    Female         30-49  No answer (International)   \n",
       "3       1    Female         30-49  No answer (International)   \n",
       "4       1    Female         30-49  No answer (International)   \n",
       "\n",
       "                                      Q0_Org    Q0_GeoFocus        Qtype  \\\n",
       "0  NGO - girls/women's rights ARE sole focus  International  Multi-punch   \n",
       "1  NGO - girls/women's rights ARE sole focus  International  Multi-punch   \n",
       "2  NGO - girls/women's rights ARE sole focus  International  Multi-punch   \n",
       "3  NGO - girls/women's rights ARE sole focus  International  Multi-punch   \n",
       "4  NGO - girls/women's rights ARE sole focus  International  Multi-punch   \n",
       "\n",
       "                                                                   Question Grouping  \\\n",
       "0  What should be the three biggest priorities today in relation to gender equality?   \n",
       "1  What should be the three biggest priorities today in relation to gender equality?   \n",
       "2  What should be the three biggest priorities today in relation to gender equality?   \n",
       "3  What should be the three biggest priorities today in relation to gender equality?   \n",
       "4  What should be the three biggest priorities today in relation to gender equality?   \n",
       "\n",
       "                                   Wording Question ID  Value  \\\n",
       "0  1= top 3 priority; 0=not a top priority       @q4@1      1   \n",
       "1  1= top 3 priority; 0=not a top priority       @q4@2      0   \n",
       "2  1= top 3 priority; 0=not a top priority       @q4@3      0   \n",
       "3  1= top 3 priority; 0=not a top priority       @q4@4      1   \n",
       "4  1= top 3 priority; 0=not a top priority       @q4@5      0   \n",
       "\n",
       "                                                            Labels  \n",
       "0                        Sexual and reproductive health and rights  \n",
       "1                       no Access to comprehensive health services  \n",
       "2                                no Reducing gender-based violence  \n",
       "3                    Equitable and quality education at all levels  \n",
       "4  no Economic empowerment, access to land and financial inclusion  "
      ]
     },
     "execution_count": 306,
     "metadata": {},
     "output_type": "execute_result"
    }
   ],
   "source": [
    "df.head()"
   ]
  },
  {
   "cell_type": "markdown",
   "metadata": {},
   "source": [
    "#### RespID"
   ]
  },
  {
   "cell_type": "code",
   "execution_count": 307,
   "metadata": {},
   "outputs": [
    {
     "data": {
      "text/plain": [
       "613"
      ]
     },
     "execution_count": 307,
     "metadata": {},
     "output_type": "execute_result"
    }
   ],
   "source": [
    "len(set(df['RespID']))"
   ]
  },
  {
   "cell_type": "markdown",
   "metadata": {},
   "source": [
    "There were 613 unique respondents"
   ]
  },
  {
   "cell_type": "markdown",
   "metadata": {},
   "source": [
    "#### Q0_Gender"
   ]
  },
  {
   "cell_type": "code",
   "execution_count": 308,
   "metadata": {},
   "outputs": [
    {
     "data": {
      "text/plain": [
       "{'Female', 'In another way', 'Male'}"
      ]
     },
     "execution_count": 308,
     "metadata": {},
     "output_type": "execute_result"
    }
   ],
   "source": [
    "set(df['Q0_Gender'])"
   ]
  },
  {
   "cell_type": "markdown",
   "metadata": {},
   "source": [
    "Was 'In another way' a gender identity or a misentry?"
   ]
  },
  {
   "cell_type": "code",
   "execution_count": 309,
   "metadata": {},
   "outputs": [
    {
     "data": {
      "text/plain": [
       "{18, 40, 106, 227, 369, 549}"
      ]
     },
     "execution_count": 309,
     "metadata": {},
     "output_type": "execute_result"
    }
   ],
   "source": [
    "set(df['RespID'][df['Q0_Gender'] == 'In another way'])"
   ]
  },
  {
   "cell_type": "markdown",
   "metadata": {},
   "source": [
    "'In another way' is a hard term to google, but it's feasible that it was used to describe non-binary respondents  \n",
    "Encode it as Nonbinary"
   ]
  },
  {
   "cell_type": "code",
   "execution_count": 310,
   "metadata": {},
   "outputs": [],
   "source": [
    "df['Q0_Gender'][df['Q0_Gender'] == 'In another way'] = 'Nonbinary'"
   ]
  },
  {
   "cell_type": "markdown",
   "metadata": {},
   "source": [
    "Check for mistakes"
   ]
  },
  {
   "cell_type": "code",
   "execution_count": 311,
   "metadata": {},
   "outputs": [
    {
     "data": {
      "text/plain": [
       "{18, 40, 106, 227, 369, 549}"
      ]
     },
     "execution_count": 311,
     "metadata": {},
     "output_type": "execute_result"
    }
   ],
   "source": [
    "set(df['RespID'][df['Q0_Gender'] != 'Female'][df['Q0_Gender'] != 'Male'])"
   ]
  },
  {
   "cell_type": "markdown",
   "metadata": {},
   "source": [
    "#### Q0_Generation"
   ]
  },
  {
   "cell_type": "code",
   "execution_count": 312,
   "metadata": {},
   "outputs": [
    {
     "data": {
      "text/plain": [
       "{'29 and under', '30-49', '50+'}"
      ]
     },
     "execution_count": 312,
     "metadata": {},
     "output_type": "execute_result"
    }
   ],
   "source": [
    "set(df['Q0_Generation'])"
   ]
  },
  {
   "cell_type": "markdown",
   "metadata": {},
   "source": [
    "Age range category for the respondents"
   ]
  },
  {
   "cell_type": "markdown",
   "metadata": {},
   "source": [
    "#### Q0_Location"
   ]
  },
  {
   "cell_type": "code",
   "execution_count": 313,
   "metadata": {},
   "outputs": [
    {
     "data": {
      "text/plain": [
       "{'Africa',\n",
       " 'Asia',\n",
       " 'Latin America and Caribbean',\n",
       " 'No answer (International)',\n",
       " 'North America and Europe',\n",
       " 'Other'}"
      ]
     },
     "execution_count": 313,
     "metadata": {},
     "output_type": "execute_result"
    }
   ],
   "source": [
    "set(df['Q0_Location'])"
   ]
  },
  {
   "cell_type": "markdown",
   "metadata": {},
   "source": [
    "'No answer (International)' bugs me a little"
   ]
  },
  {
   "cell_type": "markdown",
   "metadata": {},
   "source": [
    "#### Q0_Org"
   ]
  },
  {
   "cell_type": "code",
   "execution_count": 314,
   "metadata": {},
   "outputs": [
    {
     "data": {
      "text/plain": [
       "{\"Girls/women's rights organisation\",\n",
       " 'Govenment',\n",
       " 'Independent/academic research org',\n",
       " 'Multilateral/international org',\n",
       " \"NGO - girls/women's rights ARE sole focus\",\n",
       " \"NGO - girls/women's rights NOT sole focus\",\n",
       " 'Other',\n",
       " 'Private/business sector'}"
      ]
     },
     "execution_count": 314,
     "metadata": {},
     "output_type": "execute_result"
    }
   ],
   "source": [
    "set(df['Q0_Org'])"
   ]
  },
  {
   "cell_type": "code",
   "execution_count": 315,
   "metadata": {},
   "outputs": [],
   "source": [
    "f = df[['RespID', 'Q0_Org']].groupby(by = 'Q0_Org').count()"
   ]
  },
  {
   "cell_type": "code",
   "execution_count": 316,
   "metadata": {},
   "outputs": [],
   "source": [
    "f['Q0_Org'] = f.index"
   ]
  },
  {
   "cell_type": "markdown",
   "metadata": {},
   "source": [
    "Arghh! Misspellings"
   ]
  },
  {
   "cell_type": "code",
   "execution_count": 317,
   "metadata": {},
   "outputs": [
    {
     "data": {
      "text/plain": [
       "<BarContainer object of 8 artists>"
      ]
     },
     "execution_count": 317,
     "metadata": {},
     "output_type": "execute_result"
    },
    {
     "data": {
      "image/png": "[encoded data removed]",
      "text/plain": [
       "<Figure size 432x288 with 1 Axes>"
      ]
     },
     "metadata": {},
     "output_type": "display_data"
    }
   ],
   "source": [
    "fig = plt.figure()\n",
    "axs = fig.add_subplot(111)\n",
    "axs.barh(y = f['Q0_Org'], width = f['RespID'])"
   ]
  },
  {
   "cell_type": "markdown",
   "metadata": {},
   "source": [
    "#### Q0_GeoFocus"
   ]
  },
  {
   "cell_type": "code",
   "execution_count": 318,
   "metadata": {},
   "outputs": [
    {
     "data": {
      "text/plain": [
       "{'International', 'National or sub-national'}"
      ]
     },
     "execution_count": 318,
     "metadata": {},
     "output_type": "execute_result"
    }
   ],
   "source": [
    "set(df['Q0_GeoFocus'])"
   ]
  },
  {
   "cell_type": "code",
   "execution_count": 319,
   "metadata": {},
   "outputs": [
    {
     "data": {
      "text/html": [
       "<div>\n",
       "<style scoped>\n",
       "    .dataframe tbody tr th:only-of-type {\n",
       "        vertical-align: middle;\n",
       "    }\n",
       "\n",
       "    .dataframe tbody tr th {\n",
       "        vertical-align: top;\n",
       "    }\n",
       "\n",
       "    .dataframe thead th {\n",
       "        text-align: right;\n",
       "    }\n",
       "</style>\n",
       "<table border=\"1\" class=\"dataframe\">\n",
       "  <thead>\n",
       "    <tr style=\"text-align: right;\">\n",
       "      <th></th>\n",
       "      <th>RespID</th>\n",
       "    </tr>\n",
       "    <tr>\n",
       "      <th>Q0_GeoFocus</th>\n",
       "      <th></th>\n",
       "    </tr>\n",
       "  </thead>\n",
       "  <tbody>\n",
       "    <tr>\n",
       "      <th>International</th>\n",
       "      <td>6004</td>\n",
       "    </tr>\n",
       "    <tr>\n",
       "      <th>National or sub-national</th>\n",
       "      <td>5643</td>\n",
       "    </tr>\n",
       "  </tbody>\n",
       "</table>\n",
       "</div>"
      ],
      "text/plain": [
       "                          RespID\n",
       "Q0_GeoFocus                     \n",
       "International               6004\n",
       "National or sub-national    5643"
      ]
     },
     "execution_count": 319,
     "metadata": {},
     "output_type": "execute_result"
    }
   ],
   "source": [
    "df[['RespID', 'Q0_GeoFocus']].groupby(by='Q0_GeoFocus').count()"
   ]
  },
  {
   "cell_type": "markdown",
   "metadata": {},
   "source": [
    "#### Qtype"
   ]
  },
  {
   "cell_type": "code",
   "execution_count": 320,
   "metadata": {},
   "outputs": [
    {
     "data": {
      "text/plain": [
       "{'Likert', 'Multi-punch'}"
      ]
     },
     "execution_count": 320,
     "metadata": {},
     "output_type": "execute_result"
    }
   ],
   "source": [
    "set(df['Qtype'])"
   ]
  },
  {
   "cell_type": "code",
   "execution_count": 321,
   "metadata": {},
   "outputs": [
    {
     "data": {
      "text/html": [
       "<div>\n",
       "<style scoped>\n",
       "    .dataframe tbody tr th:only-of-type {\n",
       "        vertical-align: middle;\n",
       "    }\n",
       "\n",
       "    .dataframe tbody tr th {\n",
       "        vertical-align: top;\n",
       "    }\n",
       "\n",
       "    .dataframe thead th {\n",
       "        text-align: right;\n",
       "    }\n",
       "</style>\n",
       "<table border=\"1\" class=\"dataframe\">\n",
       "  <thead>\n",
       "    <tr style=\"text-align: right;\">\n",
       "      <th></th>\n",
       "      <th>RespID</th>\n",
       "    </tr>\n",
       "    <tr>\n",
       "      <th>Qtype</th>\n",
       "      <th></th>\n",
       "    </tr>\n",
       "  </thead>\n",
       "  <tbody>\n",
       "    <tr>\n",
       "      <th>Likert</th>\n",
       "      <td>3065</td>\n",
       "    </tr>\n",
       "    <tr>\n",
       "      <th>Multi-punch</th>\n",
       "      <td>8582</td>\n",
       "    </tr>\n",
       "  </tbody>\n",
       "</table>\n",
       "</div>"
      ],
      "text/plain": [
       "             RespID\n",
       "Qtype              \n",
       "Likert         3065\n",
       "Multi-punch    8582"
      ]
     },
     "execution_count": 321,
     "metadata": {},
     "output_type": "execute_result"
    }
   ],
   "source": [
    "df[['Qtype', 'RespID']].groupby(by='Qtype').count()"
   ]
  },
  {
   "cell_type": "markdown",
   "metadata": {},
   "source": [
    "I don't know what Likert refers to. Maybe it's the equivalent of open-ended."
   ]
  },
  {
   "cell_type": "markdown",
   "metadata": {},
   "source": [
    "#### Question Grouping"
   ]
  },
  {
   "cell_type": "code",
   "execution_count": 322,
   "metadata": {},
   "outputs": [
    {
     "data": {
      "text/plain": [
       "{'To what extent are the following factors relevant in explaining gaps in government data sources relating to gender equality?',\n",
       " 'What should be the three biggest priorities today in relation to gender equality?'}"
      ]
     },
     "execution_count": 322,
     "metadata": {},
     "output_type": "execute_result"
    }
   ],
   "source": [
    "set(df['Question Grouping'])"
   ]
  },
  {
   "cell_type": "code",
   "execution_count": 323,
   "metadata": {},
   "outputs": [
    {
     "data": {
      "text/html": [
       "<div>\n",
       "<style scoped>\n",
       "    .dataframe tbody tr th:only-of-type {\n",
       "        vertical-align: middle;\n",
       "    }\n",
       "\n",
       "    .dataframe tbody tr th {\n",
       "        vertical-align: top;\n",
       "    }\n",
       "\n",
       "    .dataframe thead th {\n",
       "        text-align: right;\n",
       "    }\n",
       "</style>\n",
       "<table border=\"1\" class=\"dataframe\">\n",
       "  <thead>\n",
       "    <tr style=\"text-align: right;\">\n",
       "      <th></th>\n",
       "      <th>RespID</th>\n",
       "    </tr>\n",
       "    <tr>\n",
       "      <th>Question Grouping</th>\n",
       "      <th></th>\n",
       "    </tr>\n",
       "  </thead>\n",
       "  <tbody>\n",
       "    <tr>\n",
       "      <th>To what extent are the following factors relevant in explaining gaps in government data sources relating to gender equality?</th>\n",
       "      <td>3065</td>\n",
       "    </tr>\n",
       "    <tr>\n",
       "      <th>What should be the three biggest priorities today in relation to gender equality?</th>\n",
       "      <td>8582</td>\n",
       "    </tr>\n",
       "  </tbody>\n",
       "</table>\n",
       "</div>"
      ],
      "text/plain": [
       "                                                                                                      RespID\n",
       "Question Grouping                                                                                           \n",
       "To what extent are the following factors relevant in explaining gaps in government data sources r...    3065\n",
       "What should be the three biggest priorities today in relation to gender equality?                       8582"
      ]
     },
     "execution_count": 323,
     "metadata": {},
     "output_type": "execute_result"
    }
   ],
   "source": [
    "df[['Question Grouping', 'RespID']].groupby(by='Question Grouping').count()"
   ]
  },
  {
   "cell_type": "markdown",
   "metadata": {},
   "source": [
    "The counts for Question Grouping match those for Qtype, maybe they are equivalent"
   ]
  },
  {
   "cell_type": "code",
   "execution_count": 324,
   "metadata": {},
   "outputs": [
    {
     "data": {
      "text/html": [
       "<div>\n",
       "<style scoped>\n",
       "    .dataframe tbody tr th:only-of-type {\n",
       "        vertical-align: middle;\n",
       "    }\n",
       "\n",
       "    .dataframe tbody tr th {\n",
       "        vertical-align: top;\n",
       "    }\n",
       "\n",
       "    .dataframe thead th {\n",
       "        text-align: right;\n",
       "    }\n",
       "</style>\n",
       "<table border=\"1\" class=\"dataframe\">\n",
       "  <thead>\n",
       "    <tr style=\"text-align: right;\">\n",
       "      <th></th>\n",
       "      <th>RespID</th>\n",
       "    </tr>\n",
       "    <tr>\n",
       "      <th>Question Grouping</th>\n",
       "      <th></th>\n",
       "    </tr>\n",
       "  </thead>\n",
       "  <tbody>\n",
       "    <tr>\n",
       "      <th>What should be the three biggest priorities today in relation to gender equality?</th>\n",
       "      <td>8582</td>\n",
       "    </tr>\n",
       "  </tbody>\n",
       "</table>\n",
       "</div>"
      ],
      "text/plain": [
       "                                                                                   RespID\n",
       "Question Grouping                                                                        \n",
       "What should be the three biggest priorities today in relation to gender equality?    8582"
      ]
     },
     "execution_count": 324,
     "metadata": {},
     "output_type": "execute_result"
    }
   ],
   "source": [
    "df[['RespID','Question Grouping']][df['Qtype'] == 'Multi-punch'].groupby(by='Question Grouping').count()"
   ]
  },
  {
   "cell_type": "markdown",
   "metadata": {},
   "source": [
    "Yup, so I will just keep Question Grouping, but I think it has to be encoded, too wordy"
   ]
  },
  {
   "cell_type": "markdown",
   "metadata": {},
   "source": [
    "#### Wording"
   ]
  },
  {
   "cell_type": "code",
   "execution_count": 325,
   "metadata": {},
   "outputs": [
    {
     "data": {
      "text/plain": [
       "array(['1= top 3 priority; 0=not a top priority',\n",
       "       \"Collecting data on issues that affect girls and women in policymaking isn't prioritized\",\n",
       "       'There is little demand from advocates for data relating to gender equality',\n",
       "       'Gender data is harder to collect than other data',\n",
       "       \"There isn't enough technical know-ho within government related to gender data\",\n",
       "       \"There isn't enough funding for the government to collect better gender data\"],\n",
       "      dtype=object)"
      ]
     },
     "execution_count": 325,
     "metadata": {},
     "output_type": "execute_result"
    }
   ],
   "source": [
    "df['Wording'].unique()"
   ]
  },
  {
   "cell_type": "code",
   "execution_count": 326,
   "metadata": {},
   "outputs": [
    {
     "data": {
      "text/plain": [
       "array(['1= top 3 priority; 0=not a top priority'], dtype=object)"
      ]
     },
     "execution_count": 326,
     "metadata": {},
     "output_type": "execute_result"
    }
   ],
   "source": [
    "df['Wording'][df['Qtype'] == 'Multi-punch'].unique()"
   ]
  },
  {
   "cell_type": "code",
   "execution_count": 327,
   "metadata": {},
   "outputs": [
    {
     "data": {
      "text/plain": [
       "array([\"Collecting data on issues that affect girls and women in policymaking isn't prioritized\",\n",
       "       'There is little demand from advocates for data relating to gender equality',\n",
       "       'Gender data is harder to collect than other data',\n",
       "       \"There isn't enough technical know-ho within government related to gender data\",\n",
       "       \"There isn't enough funding for the government to collect better gender data\"],\n",
       "      dtype=object)"
      ]
     },
     "execution_count": 327,
     "metadata": {},
     "output_type": "execute_result"
    }
   ],
   "source": [
    "df['Wording'][df['Qtype'] != 'Multi-punch'].unique()"
   ]
  },
  {
   "cell_type": "markdown",
   "metadata": {},
   "source": [
    "For the question about the extent of gaps in gov data, Wording is the option 1-top priority or 0-not top priority  \n",
    "For the question about what should be priorities, Wording is the choice from among the 5 options"
   ]
  },
  {
   "cell_type": "markdown",
   "metadata": {},
   "source": [
    "#### Question ID"
   ]
  },
  {
   "cell_type": "code",
   "execution_count": 328,
   "metadata": {},
   "outputs": [
    {
     "data": {
      "text/plain": [
       "array(['@q4@1', '@q4@2', '@q4@3', '@q4@4', '@q4@5', '@q4@6', '@q4@7',\n",
       "       '@q4@8', '@q4@9', '@q4@10', '@q4@11', '@q4@12', '@q4@13', '@q4@14',\n",
       "       'q11@a', 'q11@b', 'q11@c', 'q11@d', 'q11@e'], dtype=object)"
      ]
     },
     "execution_count": 328,
     "metadata": {},
     "output_type": "execute_result"
    }
   ],
   "source": [
    "df['Question ID'].unique()"
   ]
  },
  {
   "cell_type": "markdown",
   "metadata": {},
   "source": [
    "#### Value"
   ]
  },
  {
   "cell_type": "code",
   "execution_count": 329,
   "metadata": {},
   "outputs": [
    {
     "data": {
      "text/plain": [
       "array([  1,   0,   3,   4,   2,   5, -99])"
      ]
     },
     "execution_count": 329,
     "metadata": {},
     "output_type": "execute_result"
    }
   ],
   "source": [
    "df['Value'].unique()"
   ]
  },
  {
   "cell_type": "markdown",
   "metadata": {},
   "source": [
    "I would guess that -99 was used to encode missing data"
   ]
  },
  {
   "cell_type": "markdown",
   "metadata": {},
   "source": [
    "#### Labels"
   ]
  },
  {
   "cell_type": "code",
   "execution_count": 330,
   "metadata": {},
   "outputs": [
    {
     "data": {
      "text/plain": [
       "array(['Sexual and reproductive health and rights',\n",
       "       'no Access to comprehensive health services',\n",
       "       'no Reducing gender-based violence',\n",
       "       'Equitable and quality education at all levels',\n",
       "       'no Economic empowerment, access to land and financial inclusion',\n",
       "       'no Women and work, unpaid care, pay gap',\n",
       "       \"no Women's political and civil society participation\",\n",
       "       'no Access to public infrastructure, including clean energy, water and sanitation',\n",
       "       'Women and the effects of climatic and environmental changes',\n",
       "       'no Girls and women in conflict/post-conflict situations',\n",
       "       'no Public finance, public spending and taxation',\n",
       "       'no None of the above', \"no Don't know\", 'no No answer',\n",
       "       'Very relevant', 'Not very relevant', 'Not at all relevant',\n",
       "       'Fairly relevant', 'Reducing gender-based violence',\n",
       "       'no Equitable and quality education at all levels',\n",
       "       'Access to public infrastructure, including clean energy, water and sanitation',\n",
       "       'no Women and the effects of climatic and environmental changes',\n",
       "       'Access to comprehensive health services', \"Don't know\",\n",
       "       'no Sexual and reproductive health and rights',\n",
       "       \"Women's political and civil society participation\",\n",
       "       'Economic empowerment, access to land and financial inclusion',\n",
       "       'Girls and women in conflict/post-conflict situations',\n",
       "       'Women and work, unpaid care, pay gap',\n",
       "       'Public finance, public spending and taxation', 'No answer',\n",
       "       'None of the above'], dtype=object)"
      ]
     },
     "execution_count": 330,
     "metadata": {},
     "output_type": "execute_result"
    }
   ],
   "source": [
    "df['Labels'].unique()"
   ]
  },
  {
   "cell_type": "markdown",
   "metadata": {},
   "source": [
    "For the multi-punch question, respondents chose value 1 for the three values of Labels they thought should be top 3 priorities  \n",
    "For the Likert question, respondents chose a lable of Relevance with a corresponding Value (4 for not relevant and 1 for very relevant) for each of the five wordings"
   ]
  },
  {
   "cell_type": "code",
   "execution_count": 331,
   "metadata": {},
   "outputs": [
    {
     "data": {
      "text/plain": [
       "array(['No answer'], dtype=object)"
      ]
     },
     "execution_count": 331,
     "metadata": {},
     "output_type": "execute_result"
    }
   ],
   "source": [
    "df['Labels'][df['Value'] == -99].unique()"
   ]
  },
  {
   "cell_type": "markdown",
   "metadata": {},
   "source": [
    "Yup, value of -99 corresponds to no answer"
   ]
  },
  {
   "cell_type": "code",
   "execution_count": 332,
   "metadata": {},
   "outputs": [
    {
     "data": {
      "text/html": [
       "<div>\n",
       "<style scoped>\n",
       "    .dataframe tbody tr th:only-of-type {\n",
       "        vertical-align: middle;\n",
       "    }\n",
       "\n",
       "    .dataframe tbody tr th {\n",
       "        vertical-align: top;\n",
       "    }\n",
       "\n",
       "    .dataframe thead th {\n",
       "        text-align: right;\n",
       "    }\n",
       "</style>\n",
       "<table border=\"1\" class=\"dataframe\">\n",
       "  <thead>\n",
       "    <tr style=\"text-align: right;\">\n",
       "      <th></th>\n",
       "      <th>Question ID</th>\n",
       "    </tr>\n",
       "    <tr>\n",
       "      <th>RespID</th>\n",
       "      <th></th>\n",
       "    </tr>\n",
       "  </thead>\n",
       "  <tbody>\n",
       "  </tbody>\n",
       "</table>\n",
       "</div>"
      ],
      "text/plain": [
       "Empty DataFrame\n",
       "Columns: [Question ID]\n",
       "Index: []"
      ]
     },
     "execution_count": 332,
     "metadata": {},
     "output_type": "execute_result"
    }
   ],
   "source": [
    "f = df[['Question ID', 'RespID']].groupby('RespID').count()\n",
    "f[f['Question ID'] != 19]"
   ]
  },
  {
   "cell_type": "markdown",
   "metadata": {},
   "source": [
    "All respondents have all 19 questions entered in some form"
   ]
  },
  {
   "cell_type": "code",
   "execution_count": 333,
   "metadata": {},
   "outputs": [
    {
     "data": {
      "text/plain": [
       "RespID               11647\n",
       "Q0_Gender            11647\n",
       "Q0_Generation        11647\n",
       "Q0_Location          11647\n",
       "Q0_Org               11647\n",
       "Q0_GeoFocus          11647\n",
       "Qtype                11647\n",
       "Question Grouping    11647\n",
       "Wording              11647\n",
       "Question ID          11647\n",
       "Value                11647\n",
       "Labels               11647\n",
       "dtype: int64"
      ]
     },
     "execution_count": 333,
     "metadata": {},
     "output_type": "execute_result"
    }
   ],
   "source": [
    "df.count()"
   ]
  },
  {
   "cell_type": "markdown",
   "metadata": {},
   "source": [
    "No missing data, nominally because there are a lot of encoded missing data, eg 'no answer'"
   ]
  },
  {
   "cell_type": "code",
   "execution_count": 334,
   "metadata": {},
   "outputs": [],
   "source": [
    "df.rename(index=str, columns={'RespID':'id',\n",
    "                              'Q0_Gender': 'gender',\n",
    "                              'Q0_Generation': 'generation',\n",
    "                              'Q0_Location': 'location',\n",
    "                              'Q0_GeoFocus': 'focus',\n",
    "                              'Q0_Org': 'org',\n",
    "                              'Qtype': 'qtype',\n",
    "                              'Question Grouping': 'question',\n",
    "                              'Wording': 'wording',\n",
    "                              'Question ID': 'qno',\n",
    "                              'Value': 'respValue',\n",
    "                              'Labels': 'respLabel'},\n",
    "         inplace=True)"
   ]
  },
  {
   "cell_type": "markdown",
   "metadata": {},
   "source": [
    "Renamed df for ease of access"
   ]
  },
  {
   "cell_type": "code",
   "execution_count": 335,
   "metadata": {},
   "outputs": [],
   "source": [
    "df.drop('qno', axis=1, inplace=True)"
   ]
  },
  {
   "cell_type": "markdown",
   "metadata": {},
   "source": [
    "#### Sexual and reproductive health and rights"
   ]
  },
  {
   "cell_type": "code",
   "execution_count": 336,
   "metadata": {},
   "outputs": [],
   "source": [
    "df_q1 = df.iloc[::19,]"
   ]
  },
  {
   "cell_type": "markdown",
   "metadata": {},
   "source": [
    "#### Access to health services"
   ]
  },
  {
   "cell_type": "code",
   "execution_count": 337,
   "metadata": {},
   "outputs": [],
   "source": [
    "df_q2 = df.iloc[1::19,]"
   ]
  },
  {
   "cell_type": "markdown",
   "metadata": {},
   "source": [
    "#### Gender-based violence"
   ]
  },
  {
   "cell_type": "code",
   "execution_count": 338,
   "metadata": {},
   "outputs": [],
   "source": [
    "df_q3 = df.iloc[2::19,]"
   ]
  },
  {
   "cell_type": "markdown",
   "metadata": {},
   "source": [
    "#### Equitable and quality education"
   ]
  },
  {
   "cell_type": "code",
   "execution_count": 339,
   "metadata": {},
   "outputs": [],
   "source": [
    "df_q4 = df.iloc[3::19]"
   ]
  },
  {
   "cell_type": "markdown",
   "metadata": {},
   "source": [
    "#### Economic empowerment"
   ]
  },
  {
   "cell_type": "code",
   "execution_count": 340,
   "metadata": {},
   "outputs": [],
   "source": [
    "df_q5 = df.iloc[4::19,]"
   ]
  },
  {
   "cell_type": "markdown",
   "metadata": {},
   "source": [
    "#### Women and work, unpaid care, pay gap"
   ]
  },
  {
   "cell_type": "code",
   "execution_count": 341,
   "metadata": {},
   "outputs": [],
   "source": [
    "df_q6 = df.iloc[5::19,]"
   ]
  },
  {
   "cell_type": "markdown",
   "metadata": {},
   "source": [
    "#### Political and civil participation"
   ]
  },
  {
   "cell_type": "code",
   "execution_count": 342,
   "metadata": {},
   "outputs": [],
   "source": [
    "df_q7 = df.iloc[6::19,]"
   ]
  },
  {
   "cell_type": "markdown",
   "metadata": {},
   "source": [
    "#### Access to public infractructure"
   ]
  },
  {
   "cell_type": "code",
   "execution_count": 343,
   "metadata": {},
   "outputs": [],
   "source": [
    "df_q8 = df.iloc[7::19,]"
   ]
  },
  {
   "cell_type": "markdown",
   "metadata": {},
   "source": [
    "#### Climate and environmental change"
   ]
  },
  {
   "cell_type": "code",
   "execution_count": 344,
   "metadata": {},
   "outputs": [],
   "source": [
    "df_q9 = df.iloc[8::19,]"
   ]
  },
  {
   "cell_type": "markdown",
   "metadata": {},
   "source": [
    "#### Conflict situations"
   ]
  },
  {
   "cell_type": "code",
   "execution_count": 345,
   "metadata": {},
   "outputs": [],
   "source": [
    "df_q10 = df.iloc[9::19,]"
   ]
  },
  {
   "cell_type": "markdown",
   "metadata": {},
   "source": [
    "#### Public finance, spending and taxation"
   ]
  },
  {
   "cell_type": "code",
   "execution_count": 346,
   "metadata": {},
   "outputs": [],
   "source": [
    "df_q11 = df.iloc[10::19,]"
   ]
  },
  {
   "cell_type": "markdown",
   "metadata": {},
   "source": [
    "#### None of the above"
   ]
  },
  {
   "cell_type": "code",
   "execution_count": 347,
   "metadata": {},
   "outputs": [],
   "source": [
    "df_q12 = df.iloc[11::19,]"
   ]
  },
  {
   "cell_type": "code",
   "execution_count": 348,
   "metadata": {},
   "outputs": [
    {
     "data": {
      "text/html": [
       "<div>\n",
       "<style scoped>\n",
       "    .dataframe tbody tr th:only-of-type {\n",
       "        vertical-align: middle;\n",
       "    }\n",
       "\n",
       "    .dataframe tbody tr th {\n",
       "        vertical-align: top;\n",
       "    }\n",
       "\n",
       "    .dataframe thead th {\n",
       "        text-align: right;\n",
       "    }\n",
       "</style>\n",
       "<table border=\"1\" class=\"dataframe\">\n",
       "  <thead>\n",
       "    <tr style=\"text-align: right;\">\n",
       "      <th></th>\n",
       "      <th>id</th>\n",
       "      <th>gender</th>\n",
       "      <th>generation</th>\n",
       "      <th>location</th>\n",
       "      <th>org</th>\n",
       "      <th>focus</th>\n",
       "      <th>qtype</th>\n",
       "      <th>question</th>\n",
       "      <th>wording</th>\n",
       "      <th>respValue</th>\n",
       "      <th>respLabel</th>\n",
       "    </tr>\n",
       "  </thead>\n",
       "  <tbody>\n",
       "    <tr>\n",
       "      <th>11</th>\n",
       "      <td>1</td>\n",
       "      <td>Female</td>\n",
       "      <td>30-49</td>\n",
       "      <td>No answer (International)</td>\n",
       "      <td>NGO - girls/women's rights ARE sole focus</td>\n",
       "      <td>International</td>\n",
       "      <td>Multi-punch</td>\n",
       "      <td>What should be the three biggest priorities today in relation to gender equality?</td>\n",
       "      <td>1= top 3 priority; 0=not a top priority</td>\n",
       "      <td>0</td>\n",
       "      <td>no None of the above</td>\n",
       "    </tr>\n",
       "    <tr>\n",
       "      <th>30</th>\n",
       "      <td>2</td>\n",
       "      <td>Female</td>\n",
       "      <td>30-49</td>\n",
       "      <td>Asia</td>\n",
       "      <td>Other</td>\n",
       "      <td>National or sub-national</td>\n",
       "      <td>Multi-punch</td>\n",
       "      <td>What should be the three biggest priorities today in relation to gender equality?</td>\n",
       "      <td>1= top 3 priority; 0=not a top priority</td>\n",
       "      <td>0</td>\n",
       "      <td>no None of the above</td>\n",
       "    </tr>\n",
       "    <tr>\n",
       "      <th>49</th>\n",
       "      <td>3</td>\n",
       "      <td>Female</td>\n",
       "      <td>29 and under</td>\n",
       "      <td>North America and Europe</td>\n",
       "      <td>Other</td>\n",
       "      <td>National or sub-national</td>\n",
       "      <td>Multi-punch</td>\n",
       "      <td>What should be the three biggest priorities today in relation to gender equality?</td>\n",
       "      <td>1= top 3 priority; 0=not a top priority</td>\n",
       "      <td>0</td>\n",
       "      <td>no None of the above</td>\n",
       "    </tr>\n",
       "    <tr>\n",
       "      <th>68</th>\n",
       "      <td>4</td>\n",
       "      <td>Female</td>\n",
       "      <td>30-49</td>\n",
       "      <td>Other</td>\n",
       "      <td>Private/business sector</td>\n",
       "      <td>National or sub-national</td>\n",
       "      <td>Multi-punch</td>\n",
       "      <td>What should be the three biggest priorities today in relation to gender equality?</td>\n",
       "      <td>1= top 3 priority; 0=not a top priority</td>\n",
       "      <td>0</td>\n",
       "      <td>no None of the above</td>\n",
       "    </tr>\n",
       "    <tr>\n",
       "      <th>87</th>\n",
       "      <td>5</td>\n",
       "      <td>Female</td>\n",
       "      <td>30-49</td>\n",
       "      <td>No answer (International)</td>\n",
       "      <td>NGO - girls/women's rights NOT sole focus</td>\n",
       "      <td>International</td>\n",
       "      <td>Multi-punch</td>\n",
       "      <td>What should be the three biggest priorities today in relation to gender equality?</td>\n",
       "      <td>1= top 3 priority; 0=not a top priority</td>\n",
       "      <td>0</td>\n",
       "      <td>no None of the above</td>\n",
       "    </tr>\n",
       "  </tbody>\n",
       "</table>\n",
       "</div>"
      ],
      "text/plain": [
       "    id  gender    generation                   location  \\\n",
       "11   1  Female         30-49  No answer (International)   \n",
       "30   2  Female         30-49                       Asia   \n",
       "49   3  Female  29 and under   North America and Europe   \n",
       "68   4  Female         30-49                      Other   \n",
       "87   5  Female         30-49  No answer (International)   \n",
       "\n",
       "                                          org                     focus  \\\n",
       "11  NGO - girls/women's rights ARE sole focus             International   \n",
       "30                                      Other  National or sub-national   \n",
       "49                                      Other  National or sub-national   \n",
       "68                    Private/business sector  National or sub-national   \n",
       "87  NGO - girls/women's rights NOT sole focus             International   \n",
       "\n",
       "          qtype  \\\n",
       "11  Multi-punch   \n",
       "30  Multi-punch   \n",
       "49  Multi-punch   \n",
       "68  Multi-punch   \n",
       "87  Multi-punch   \n",
       "\n",
       "                                                                             question  \\\n",
       "11  What should be the three biggest priorities today in relation to gender equality?   \n",
       "30  What should be the three biggest priorities today in relation to gender equality?   \n",
       "49  What should be the three biggest priorities today in relation to gender equality?   \n",
       "68  What should be the three biggest priorities today in relation to gender equality?   \n",
       "87  What should be the three biggest priorities today in relation to gender equality?   \n",
       "\n",
       "                                    wording  respValue             respLabel  \n",
       "11  1= top 3 priority; 0=not a top priority          0  no None of the above  \n",
       "30  1= top 3 priority; 0=not a top priority          0  no None of the above  \n",
       "49  1= top 3 priority; 0=not a top priority          0  no None of the above  \n",
       "68  1= top 3 priority; 0=not a top priority          0  no None of the above  \n",
       "87  1= top 3 priority; 0=not a top priority          0  no None of the above  "
      ]
     },
     "execution_count": 348,
     "metadata": {},
     "output_type": "execute_result"
    }
   ],
   "source": [
    "df_q12.head()"
   ]
  },
  {
   "cell_type": "code",
   "execution_count": 349,
   "metadata": {},
   "outputs": [
    {
     "data": {
      "text/html": [
       "<div>\n",
       "<style scoped>\n",
       "    .dataframe tbody tr th:only-of-type {\n",
       "        vertical-align: middle;\n",
       "    }\n",
       "\n",
       "    .dataframe tbody tr th {\n",
       "        vertical-align: top;\n",
       "    }\n",
       "\n",
       "    .dataframe thead th {\n",
       "        text-align: right;\n",
       "    }\n",
       "</style>\n",
       "<table border=\"1\" class=\"dataframe\">\n",
       "  <thead>\n",
       "    <tr style=\"text-align: right;\">\n",
       "      <th></th>\n",
       "      <th>id</th>\n",
       "    </tr>\n",
       "    <tr>\n",
       "      <th>respValue</th>\n",
       "      <th></th>\n",
       "    </tr>\n",
       "  </thead>\n",
       "  <tbody>\n",
       "    <tr>\n",
       "      <th>0</th>\n",
       "      <td>610</td>\n",
       "    </tr>\n",
       "    <tr>\n",
       "      <th>1</th>\n",
       "      <td>3</td>\n",
       "    </tr>\n",
       "  </tbody>\n",
       "</table>\n",
       "</div>"
      ],
      "text/plain": [
       "            id\n",
       "respValue     \n",
       "0          610\n",
       "1            3"
      ]
     },
     "execution_count": 349,
     "metadata": {},
     "output_type": "execute_result"
    }
   ],
   "source": [
    "df_q12[['id','respValue']].groupby(by='respValue').count()"
   ]
  },
  {
   "cell_type": "markdown",
   "metadata": {},
   "source": [
    "Only three respondents chose 'None of the above'"
   ]
  },
  {
   "cell_type": "markdown",
   "metadata": {},
   "source": [
    "#### Don't know"
   ]
  },
  {
   "cell_type": "code",
   "execution_count": 350,
   "metadata": {},
   "outputs": [],
   "source": [
    "df_q13 = df.iloc[12::19,]"
   ]
  },
  {
   "cell_type": "code",
   "execution_count": 351,
   "metadata": {},
   "outputs": [
    {
     "data": {
      "text/html": [
       "<div>\n",
       "<style scoped>\n",
       "    .dataframe tbody tr th:only-of-type {\n",
       "        vertical-align: middle;\n",
       "    }\n",
       "\n",
       "    .dataframe tbody tr th {\n",
       "        vertical-align: top;\n",
       "    }\n",
       "\n",
       "    .dataframe thead th {\n",
       "        text-align: right;\n",
       "    }\n",
       "</style>\n",
       "<table border=\"1\" class=\"dataframe\">\n",
       "  <thead>\n",
       "    <tr style=\"text-align: right;\">\n",
       "      <th></th>\n",
       "      <th>id</th>\n",
       "    </tr>\n",
       "    <tr>\n",
       "      <th>respValue</th>\n",
       "      <th></th>\n",
       "    </tr>\n",
       "  </thead>\n",
       "  <tbody>\n",
       "    <tr>\n",
       "      <th>0</th>\n",
       "      <td>609</td>\n",
       "    </tr>\n",
       "    <tr>\n",
       "      <th>1</th>\n",
       "      <td>4</td>\n",
       "    </tr>\n",
       "  </tbody>\n",
       "</table>\n",
       "</div>"
      ],
      "text/plain": [
       "            id\n",
       "respValue     \n",
       "0          609\n",
       "1            4"
      ]
     },
     "execution_count": 351,
     "metadata": {},
     "output_type": "execute_result"
    }
   ],
   "source": [
    "df_q13[['id','respValue']].groupby(by='respValue').count()"
   ]
  },
  {
   "cell_type": "markdown",
   "metadata": {},
   "source": [
    "Only four respondents chose 'Don't know'"
   ]
  },
  {
   "cell_type": "markdown",
   "metadata": {},
   "source": [
    "#### No answer"
   ]
  },
  {
   "cell_type": "code",
   "execution_count": 352,
   "metadata": {},
   "outputs": [],
   "source": [
    "df_q14 = df.iloc[13::19,]"
   ]
  },
  {
   "cell_type": "code",
   "execution_count": 353,
   "metadata": {},
   "outputs": [
    {
     "data": {
      "text/html": [
       "<div>\n",
       "<style scoped>\n",
       "    .dataframe tbody tr th:only-of-type {\n",
       "        vertical-align: middle;\n",
       "    }\n",
       "\n",
       "    .dataframe tbody tr th {\n",
       "        vertical-align: top;\n",
       "    }\n",
       "\n",
       "    .dataframe thead th {\n",
       "        text-align: right;\n",
       "    }\n",
       "</style>\n",
       "<table border=\"1\" class=\"dataframe\">\n",
       "  <thead>\n",
       "    <tr style=\"text-align: right;\">\n",
       "      <th></th>\n",
       "      <th>id</th>\n",
       "    </tr>\n",
       "    <tr>\n",
       "      <th>respValue</th>\n",
       "      <th></th>\n",
       "    </tr>\n",
       "  </thead>\n",
       "  <tbody>\n",
       "    <tr>\n",
       "      <th>0</th>\n",
       "      <td>613</td>\n",
       "    </tr>\n",
       "  </tbody>\n",
       "</table>\n",
       "</div>"
      ],
      "text/plain": [
       "            id\n",
       "respValue     \n",
       "0          613"
      ]
     },
     "execution_count": 353,
     "metadata": {},
     "output_type": "execute_result"
    }
   ],
   "source": [
    "df_q14[['id','respValue']].groupby(by='respValue').count()"
   ]
  },
  {
   "cell_type": "markdown",
   "metadata": {},
   "source": [
    "No respondents chose 'No answer', or maybe no respondents failed to fill in something"
   ]
  },
  {
   "cell_type": "markdown",
   "metadata": {},
   "source": [
    "#### Collecting data on issues affecting women in policymaking"
   ]
  },
  {
   "cell_type": "code",
   "execution_count": 354,
   "metadata": {},
   "outputs": [],
   "source": [
    "df_q15a = df.iloc[14::19,]"
   ]
  },
  {
   "cell_type": "markdown",
   "metadata": {},
   "source": [
    "#### Demand from advocates for data"
   ]
  },
  {
   "cell_type": "code",
   "execution_count": 355,
   "metadata": {},
   "outputs": [],
   "source": [
    "df_q15b = df.iloc[15::19,]"
   ]
  },
  {
   "cell_type": "markdown",
   "metadata": {},
   "source": [
    "#### Gender data is hard to collect"
   ]
  },
  {
   "cell_type": "code",
   "execution_count": 356,
   "metadata": {},
   "outputs": [],
   "source": [
    "df_q15c = df.iloc[16::19,]"
   ]
  },
  {
   "cell_type": "markdown",
   "metadata": {},
   "source": [
    "#### Not enough technical knowledge within government"
   ]
  },
  {
   "cell_type": "code",
   "execution_count": 357,
   "metadata": {},
   "outputs": [],
   "source": [
    "df_q15d = df.iloc[17::19,]"
   ]
  },
  {
   "cell_type": "markdown",
   "metadata": {},
   "source": [
    "#### Not enough government funding for data collection"
   ]
  },
  {
   "cell_type": "code",
   "execution_count": 358,
   "metadata": {},
   "outputs": [],
   "source": [
    "df_q15e = df.iloc[18::19,]"
   ]
  },
  {
   "cell_type": "markdown",
   "metadata": {},
   "source": [
    "What are the encodings for respValue?"
   ]
  },
  {
   "cell_type": "code",
   "execution_count": 359,
   "metadata": {},
   "outputs": [
    {
     "data": {
      "text/plain": [
       "array(['Very relevant'], dtype=object)"
      ]
     },
     "execution_count": 359,
     "metadata": {},
     "output_type": "execute_result"
    }
   ],
   "source": [
    "df_q15a['respLabel'][df_q15a['respValue'] == 1].unique()"
   ]
  },
  {
   "cell_type": "code",
   "execution_count": 360,
   "metadata": {},
   "outputs": [
    {
     "data": {
      "text/plain": [
       "array(['Fairly relevant'], dtype=object)"
      ]
     },
     "execution_count": 360,
     "metadata": {},
     "output_type": "execute_result"
    }
   ],
   "source": [
    "df_q15a['respLabel'][df_q15a['respValue'] == 2].unique()"
   ]
  },
  {
   "cell_type": "code",
   "execution_count": 361,
   "metadata": {},
   "outputs": [
    {
     "data": {
      "text/plain": [
       "array(['Not very relevant'], dtype=object)"
      ]
     },
     "execution_count": 361,
     "metadata": {},
     "output_type": "execute_result"
    }
   ],
   "source": [
    "df_q15a['respLabel'][df_q15a['respValue'] == 3].unique()"
   ]
  },
  {
   "cell_type": "code",
   "execution_count": 362,
   "metadata": {},
   "outputs": [
    {
     "data": {
      "text/plain": [
       "array(['Not at all relevant'], dtype=object)"
      ]
     },
     "execution_count": 362,
     "metadata": {},
     "output_type": "execute_result"
    }
   ],
   "source": [
    "df_q15a['respLabel'][df_q15a['respValue'] == 4].unique()"
   ]
  },
  {
   "cell_type": "code",
   "execution_count": 363,
   "metadata": {},
   "outputs": [
    {
     "data": {
      "text/plain": [
       "array([\"Don't know\"], dtype=object)"
      ]
     },
     "execution_count": 363,
     "metadata": {},
     "output_type": "execute_result"
    }
   ],
   "source": [
    "df_q15a['respLabel'][df_q15a['respValue'] == 5].unique()"
   ]
  },
  {
   "cell_type": "code",
   "execution_count": 364,
   "metadata": {},
   "outputs": [
    {
     "data": {
      "text/plain": [
       "array(['No answer'], dtype=object)"
      ]
     },
     "execution_count": 364,
     "metadata": {},
     "output_type": "execute_result"
    }
   ],
   "source": [
    "df_q15a['respLabel'][df_q15a['respValue'] == -99].unique()"
   ]
  },
  {
   "cell_type": "markdown",
   "metadata": {},
   "source": [
    "For the relevance questions, respValue takes on:  \n",
    "1 for Very relevant  \n",
    "2 for Fairly relevant  \n",
    "3 for Not very relevant  \n",
    "4 for Not at all relevant  \n",
    "5 for Don't know  \n",
    "-99 for No answer"
   ]
  },
  {
   "cell_type": "markdown",
   "metadata": {},
   "source": [
    "Clean up respLabel columns  \n",
    "Perhaps the difference corresponds to an actual difference in the phrasing of the question and with more data it could be interesting to look at the relationship\n",
    "between phrasing and response"
   ]
  },
  {
   "cell_type": "code",
   "execution_count": 365,
   "metadata": {},
   "outputs": [
    {
     "data": {
      "text/plain": [
       "array(['Sexual and reproductive health and rights',\n",
       "       'no Sexual and reproductive health and rights'], dtype=object)"
      ]
     },
     "execution_count": 365,
     "metadata": {},
     "output_type": "execute_result"
    }
   ],
   "source": [
    "df_q1['respLabel'].unique()"
   ]
  },
  {
   "cell_type": "code",
   "execution_count": 366,
   "metadata": {},
   "outputs": [
    {
     "name": "stderr",
     "output_type": "stream",
     "text": [
      "/home/eric/anaconda3/lib/python3.7/site-packages/ipykernel_launcher.py:1: SettingWithCopyWarning: \n",
      "A value is trying to be set on a copy of a slice from a DataFrame.\n",
      "Try using .loc[row_indexer,col_indexer] = value instead\n",
      "\n",
      "See the caveats in the documentation: http://pandas.pydata.org/pandas-docs/stable/indexing.html#indexing-view-versus-copy\n",
      "  \"\"\"Entry point for launching an IPython kernel.\n"
     ]
    }
   ],
   "source": [
    "df_q1['respLabel'] = 'Sexual and reproductive health and rights'"
   ]
  },
  {
   "cell_type": "code",
   "execution_count": 367,
   "metadata": {},
   "outputs": [
    {
     "data": {
      "text/plain": [
       "array(['Sexual and reproductive health and rights'], dtype=object)"
      ]
     },
     "execution_count": 367,
     "metadata": {},
     "output_type": "execute_result"
    }
   ],
   "source": [
    "df_q1['respLabel'].unique()"
   ]
  },
  {
   "cell_type": "code",
   "execution_count": 368,
   "metadata": {},
   "outputs": [
    {
     "data": {
      "text/plain": [
       "array(['no Access to comprehensive health services',\n",
       "       'Access to comprehensive health services'], dtype=object)"
      ]
     },
     "execution_count": 368,
     "metadata": {},
     "output_type": "execute_result"
    }
   ],
   "source": [
    "df_q2['respLabel'].unique()"
   ]
  },
  {
   "cell_type": "code",
   "execution_count": 369,
   "metadata": {},
   "outputs": [
    {
     "name": "stderr",
     "output_type": "stream",
     "text": [
      "/home/eric/anaconda3/lib/python3.7/site-packages/ipykernel_launcher.py:1: SettingWithCopyWarning: \n",
      "A value is trying to be set on a copy of a slice from a DataFrame.\n",
      "Try using .loc[row_indexer,col_indexer] = value instead\n",
      "\n",
      "See the caveats in the documentation: http://pandas.pydata.org/pandas-docs/stable/indexing.html#indexing-view-versus-copy\n",
      "  \"\"\"Entry point for launching an IPython kernel.\n"
     ]
    }
   ],
   "source": [
    "df_q2['respLabel'] = 'Access to comprehensive health services'"
   ]
  },
  {
   "cell_type": "code",
   "execution_count": 370,
   "metadata": {},
   "outputs": [
    {
     "data": {
      "text/plain": [
       "array(['Access to comprehensive health services'], dtype=object)"
      ]
     },
     "execution_count": 370,
     "metadata": {},
     "output_type": "execute_result"
    }
   ],
   "source": [
    "df_q2['respLabel'].unique()"
   ]
  },
  {
   "cell_type": "code",
   "execution_count": 371,
   "metadata": {},
   "outputs": [
    {
     "data": {
      "text/plain": [
       "array(['no Reducing gender-based violence',\n",
       "       'Reducing gender-based violence'], dtype=object)"
      ]
     },
     "execution_count": 371,
     "metadata": {},
     "output_type": "execute_result"
    }
   ],
   "source": [
    "df_q3['respLabel'].unique()"
   ]
  },
  {
   "cell_type": "code",
   "execution_count": 372,
   "metadata": {},
   "outputs": [
    {
     "name": "stderr",
     "output_type": "stream",
     "text": [
      "/home/eric/anaconda3/lib/python3.7/site-packages/ipykernel_launcher.py:1: SettingWithCopyWarning: \n",
      "A value is trying to be set on a copy of a slice from a DataFrame.\n",
      "Try using .loc[row_indexer,col_indexer] = value instead\n",
      "\n",
      "See the caveats in the documentation: http://pandas.pydata.org/pandas-docs/stable/indexing.html#indexing-view-versus-copy\n",
      "  \"\"\"Entry point for launching an IPython kernel.\n"
     ]
    }
   ],
   "source": [
    "df_q3['respLabel'] = 'Reducing gender-based violence'"
   ]
  },
  {
   "cell_type": "code",
   "execution_count": 373,
   "metadata": {},
   "outputs": [
    {
     "data": {
      "text/plain": [
       "array(['Reducing gender-based violence'], dtype=object)"
      ]
     },
     "execution_count": 373,
     "metadata": {},
     "output_type": "execute_result"
    }
   ],
   "source": [
    "df_q3['respLabel'].unique()"
   ]
  },
  {
   "cell_type": "code",
   "execution_count": 374,
   "metadata": {},
   "outputs": [
    {
     "data": {
      "text/plain": [
       "array(['Equitable and quality education at all levels',\n",
       "       'no Equitable and quality education at all levels'], dtype=object)"
      ]
     },
     "execution_count": 374,
     "metadata": {},
     "output_type": "execute_result"
    }
   ],
   "source": [
    "df_q4['respLabel'].unique()"
   ]
  },
  {
   "cell_type": "code",
   "execution_count": 375,
   "metadata": {},
   "outputs": [
    {
     "name": "stderr",
     "output_type": "stream",
     "text": [
      "/home/eric/anaconda3/lib/python3.7/site-packages/ipykernel_launcher.py:1: SettingWithCopyWarning: \n",
      "A value is trying to be set on a copy of a slice from a DataFrame.\n",
      "Try using .loc[row_indexer,col_indexer] = value instead\n",
      "\n",
      "See the caveats in the documentation: http://pandas.pydata.org/pandas-docs/stable/indexing.html#indexing-view-versus-copy\n",
      "  \"\"\"Entry point for launching an IPython kernel.\n"
     ]
    }
   ],
   "source": [
    "df_q4['respLabel'] = 'Equitable and quality education at all levels'"
   ]
  },
  {
   "cell_type": "code",
   "execution_count": 376,
   "metadata": {},
   "outputs": [
    {
     "data": {
      "text/plain": [
       "array(['Equitable and quality education at all levels'], dtype=object)"
      ]
     },
     "execution_count": 376,
     "metadata": {},
     "output_type": "execute_result"
    }
   ],
   "source": [
    "df_q4['respLabel'].unique()"
   ]
  },
  {
   "cell_type": "code",
   "execution_count": 377,
   "metadata": {},
   "outputs": [
    {
     "data": {
      "text/plain": [
       "array(['no Economic empowerment, access to land and financial inclusion',\n",
       "       'Economic empowerment, access to land and financial inclusion'],\n",
       "      dtype=object)"
      ]
     },
     "execution_count": 377,
     "metadata": {},
     "output_type": "execute_result"
    }
   ],
   "source": [
    "df_q5['respLabel'].unique()"
   ]
  },
  {
   "cell_type": "code",
   "execution_count": 378,
   "metadata": {},
   "outputs": [
    {
     "name": "stderr",
     "output_type": "stream",
     "text": [
      "/home/eric/anaconda3/lib/python3.7/site-packages/ipykernel_launcher.py:1: SettingWithCopyWarning: \n",
      "A value is trying to be set on a copy of a slice from a DataFrame.\n",
      "Try using .loc[row_indexer,col_indexer] = value instead\n",
      "\n",
      "See the caveats in the documentation: http://pandas.pydata.org/pandas-docs/stable/indexing.html#indexing-view-versus-copy\n",
      "  \"\"\"Entry point for launching an IPython kernel.\n"
     ]
    }
   ],
   "source": [
    "df_q5['respLabel'] = 'Economic empowerment, access to land and financial inclusion'"
   ]
  },
  {
   "cell_type": "code",
   "execution_count": 379,
   "metadata": {},
   "outputs": [
    {
     "data": {
      "text/plain": [
       "array(['Economic empowerment, access to land and financial inclusion'],\n",
       "      dtype=object)"
      ]
     },
     "execution_count": 379,
     "metadata": {},
     "output_type": "execute_result"
    }
   ],
   "source": [
    "df_q5['respLabel'].unique()"
   ]
  },
  {
   "cell_type": "code",
   "execution_count": 380,
   "metadata": {},
   "outputs": [
    {
     "data": {
      "text/plain": [
       "array(['no Women and work, unpaid care, pay gap',\n",
       "       'Women and work, unpaid care, pay gap'], dtype=object)"
      ]
     },
     "execution_count": 380,
     "metadata": {},
     "output_type": "execute_result"
    }
   ],
   "source": [
    "df_q6['respLabel'].unique()"
   ]
  },
  {
   "cell_type": "code",
   "execution_count": 381,
   "metadata": {},
   "outputs": [
    {
     "name": "stderr",
     "output_type": "stream",
     "text": [
      "/home/eric/anaconda3/lib/python3.7/site-packages/ipykernel_launcher.py:1: SettingWithCopyWarning: \n",
      "A value is trying to be set on a copy of a slice from a DataFrame.\n",
      "Try using .loc[row_indexer,col_indexer] = value instead\n",
      "\n",
      "See the caveats in the documentation: http://pandas.pydata.org/pandas-docs/stable/indexing.html#indexing-view-versus-copy\n",
      "  \"\"\"Entry point for launching an IPython kernel.\n"
     ]
    }
   ],
   "source": [
    "df_q6['respLabel'] = 'Women and work, unpaid care, pay gap'"
   ]
  },
  {
   "cell_type": "code",
   "execution_count": 382,
   "metadata": {},
   "outputs": [
    {
     "data": {
      "text/plain": [
       "array(['Women and work, unpaid care, pay gap'], dtype=object)"
      ]
     },
     "execution_count": 382,
     "metadata": {},
     "output_type": "execute_result"
    }
   ],
   "source": [
    "df_q6['respLabel'].unique()"
   ]
  },
  {
   "cell_type": "code",
   "execution_count": 383,
   "metadata": {},
   "outputs": [
    {
     "data": {
      "text/plain": [
       "array([\"no Women's political and civil society participation\",\n",
       "       \"Women's political and civil society participation\"], dtype=object)"
      ]
     },
     "execution_count": 383,
     "metadata": {},
     "output_type": "execute_result"
    }
   ],
   "source": [
    "df_q7['respLabel'].unique()"
   ]
  },
  {
   "cell_type": "code",
   "execution_count": 384,
   "metadata": {},
   "outputs": [
    {
     "name": "stderr",
     "output_type": "stream",
     "text": [
      "/home/eric/anaconda3/lib/python3.7/site-packages/ipykernel_launcher.py:1: SettingWithCopyWarning: \n",
      "A value is trying to be set on a copy of a slice from a DataFrame.\n",
      "Try using .loc[row_indexer,col_indexer] = value instead\n",
      "\n",
      "See the caveats in the documentation: http://pandas.pydata.org/pandas-docs/stable/indexing.html#indexing-view-versus-copy\n",
      "  \"\"\"Entry point for launching an IPython kernel.\n"
     ]
    }
   ],
   "source": [
    "df_q7['respLabel'] = 'Women and the effects of climatic and environmental changes'"
   ]
  },
  {
   "cell_type": "code",
   "execution_count": 385,
   "metadata": {},
   "outputs": [
    {
     "data": {
      "text/plain": [
       "array(['Women and the effects of climatic and environmental changes'],\n",
       "      dtype=object)"
      ]
     },
     "execution_count": 385,
     "metadata": {},
     "output_type": "execute_result"
    }
   ],
   "source": [
    "df_q7['respLabel'].unique()"
   ]
  },
  {
   "cell_type": "code",
   "execution_count": 386,
   "metadata": {},
   "outputs": [
    {
     "data": {
      "text/plain": [
       "array(['no Access to public infrastructure, including clean energy, water and sanitation',\n",
       "       'Access to public infrastructure, including clean energy, water and sanitation'],\n",
       "      dtype=object)"
      ]
     },
     "execution_count": 386,
     "metadata": {},
     "output_type": "execute_result"
    }
   ],
   "source": [
    "df_q8['respLabel'].unique()"
   ]
  },
  {
   "cell_type": "code",
   "execution_count": 387,
   "metadata": {},
   "outputs": [
    {
     "name": "stderr",
     "output_type": "stream",
     "text": [
      "/home/eric/anaconda3/lib/python3.7/site-packages/ipykernel_launcher.py:1: SettingWithCopyWarning: \n",
      "A value is trying to be set on a copy of a slice from a DataFrame.\n",
      "Try using .loc[row_indexer,col_indexer] = value instead\n",
      "\n",
      "See the caveats in the documentation: http://pandas.pydata.org/pandas-docs/stable/indexing.html#indexing-view-versus-copy\n",
      "  \"\"\"Entry point for launching an IPython kernel.\n"
     ]
    }
   ],
   "source": [
    "df_q8['respLabel'] = 'Girls and women in conflict/post-conflict situations'"
   ]
  },
  {
   "cell_type": "code",
   "execution_count": 388,
   "metadata": {},
   "outputs": [
    {
     "data": {
      "text/plain": [
       "array(['Girls and women in conflict/post-conflict situations'],\n",
       "      dtype=object)"
      ]
     },
     "execution_count": 388,
     "metadata": {},
     "output_type": "execute_result"
    }
   ],
   "source": [
    "df_q8['respLabel'].unique()"
   ]
  },
  {
   "cell_type": "code",
   "execution_count": 389,
   "metadata": {},
   "outputs": [
    {
     "data": {
      "text/plain": [
       "array(['Women and the effects of climatic and environmental changes',\n",
       "       'no Women and the effects of climatic and environmental changes'],\n",
       "      dtype=object)"
      ]
     },
     "execution_count": 389,
     "metadata": {},
     "output_type": "execute_result"
    }
   ],
   "source": [
    "df_q9['respLabel'].unique()"
   ]
  },
  {
   "cell_type": "code",
   "execution_count": 390,
   "metadata": {},
   "outputs": [
    {
     "name": "stderr",
     "output_type": "stream",
     "text": [
      "/home/eric/anaconda3/lib/python3.7/site-packages/ipykernel_launcher.py:1: SettingWithCopyWarning: \n",
      "A value is trying to be set on a copy of a slice from a DataFrame.\n",
      "Try using .loc[row_indexer,col_indexer] = value instead\n",
      "\n",
      "See the caveats in the documentation: http://pandas.pydata.org/pandas-docs/stable/indexing.html#indexing-view-versus-copy\n",
      "  \"\"\"Entry point for launching an IPython kernel.\n"
     ]
    }
   ],
   "source": [
    "df_q9['respLabel'] = 'Public finance, public spending and taxation'"
   ]
  },
  {
   "cell_type": "code",
   "execution_count": 391,
   "metadata": {},
   "outputs": [
    {
     "data": {
      "text/plain": [
       "array(['Public finance, public spending and taxation'], dtype=object)"
      ]
     },
     "execution_count": 391,
     "metadata": {},
     "output_type": "execute_result"
    }
   ],
   "source": [
    "df_q9['respLabel'].unique()"
   ]
  },
  {
   "cell_type": "code",
   "execution_count": 392,
   "metadata": {},
   "outputs": [
    {
     "data": {
      "text/plain": [
       "array(['no Girls and women in conflict/post-conflict situations',\n",
       "       'Girls and women in conflict/post-conflict situations'],\n",
       "      dtype=object)"
      ]
     },
     "execution_count": 392,
     "metadata": {},
     "output_type": "execute_result"
    }
   ],
   "source": [
    "df_q10['respLabel'].unique()"
   ]
  },
  {
   "cell_type": "code",
   "execution_count": 393,
   "metadata": {},
   "outputs": [
    {
     "name": "stderr",
     "output_type": "stream",
     "text": [
      "/home/eric/anaconda3/lib/python3.7/site-packages/ipykernel_launcher.py:1: SettingWithCopyWarning: \n",
      "A value is trying to be set on a copy of a slice from a DataFrame.\n",
      "Try using .loc[row_indexer,col_indexer] = value instead\n",
      "\n",
      "See the caveats in the documentation: http://pandas.pydata.org/pandas-docs/stable/indexing.html#indexing-view-versus-copy\n",
      "  \"\"\"Entry point for launching an IPython kernel.\n"
     ]
    }
   ],
   "source": [
    "df_q10['respLabel'] = 'None of the above'"
   ]
  },
  {
   "cell_type": "code",
   "execution_count": 394,
   "metadata": {},
   "outputs": [
    {
     "data": {
      "text/plain": [
       "array(['None of the above'], dtype=object)"
      ]
     },
     "execution_count": 394,
     "metadata": {},
     "output_type": "execute_result"
    }
   ],
   "source": [
    "df_q10['respLabel'].unique()"
   ]
  },
  {
   "cell_type": "code",
   "execution_count": 395,
   "metadata": {},
   "outputs": [
    {
     "data": {
      "text/plain": [
       "array(['no Public finance, public spending and taxation',\n",
       "       'Public finance, public spending and taxation'], dtype=object)"
      ]
     },
     "execution_count": 395,
     "metadata": {},
     "output_type": "execute_result"
    }
   ],
   "source": [
    "df_q11['respLabel'].unique()"
   ]
  },
  {
   "cell_type": "code",
   "execution_count": 396,
   "metadata": {},
   "outputs": [
    {
     "name": "stderr",
     "output_type": "stream",
     "text": [
      "/home/eric/anaconda3/lib/python3.7/site-packages/ipykernel_launcher.py:1: SettingWithCopyWarning: \n",
      "A value is trying to be set on a copy of a slice from a DataFrame.\n",
      "Try using .loc[row_indexer,col_indexer] = value instead\n",
      "\n",
      "See the caveats in the documentation: http://pandas.pydata.org/pandas-docs/stable/indexing.html#indexing-view-versus-copy\n",
      "  \"\"\"Entry point for launching an IPython kernel.\n"
     ]
    }
   ],
   "source": [
    "df_q11['respLabel'] = 'Do not know'"
   ]
  },
  {
   "cell_type": "code",
   "execution_count": 397,
   "metadata": {},
   "outputs": [
    {
     "data": {
      "text/plain": [
       "array(['Do not know'], dtype=object)"
      ]
     },
     "execution_count": 397,
     "metadata": {},
     "output_type": "execute_result"
    }
   ],
   "source": [
    "df_q11['respLabel'].unique()"
   ]
  },
  {
   "cell_type": "code",
   "execution_count": 398,
   "metadata": {},
   "outputs": [
    {
     "data": {
      "text/plain": [
       "array(['no None of the above', 'None of the above'], dtype=object)"
      ]
     },
     "execution_count": 398,
     "metadata": {},
     "output_type": "execute_result"
    }
   ],
   "source": [
    "df_q12['respLabel'].unique()"
   ]
  },
  {
   "cell_type": "code",
   "execution_count": 399,
   "metadata": {},
   "outputs": [
    {
     "name": "stderr",
     "output_type": "stream",
     "text": [
      "/home/eric/anaconda3/lib/python3.7/site-packages/ipykernel_launcher.py:1: SettingWithCopyWarning: \n",
      "A value is trying to be set on a copy of a slice from a DataFrame.\n",
      "Try using .loc[row_indexer,col_indexer] = value instead\n",
      "\n",
      "See the caveats in the documentation: http://pandas.pydata.org/pandas-docs/stable/indexing.html#indexing-view-versus-copy\n",
      "  \"\"\"Entry point for launching an IPython kernel.\n"
     ]
    }
   ],
   "source": [
    "df_q12['respLabel'] = 'No answer'"
   ]
  },
  {
   "cell_type": "code",
   "execution_count": 400,
   "metadata": {},
   "outputs": [
    {
     "data": {
      "text/plain": [
       "array(['No answer'], dtype=object)"
      ]
     },
     "execution_count": 400,
     "metadata": {},
     "output_type": "execute_result"
    }
   ],
   "source": [
    "df_q12['respLabel'].unique()"
   ]
  },
  {
   "cell_type": "code",
   "execution_count": 401,
   "metadata": {},
   "outputs": [
    {
     "data": {
      "text/plain": [
       "array([\"no Don't know\", \"Don't know\"], dtype=object)"
      ]
     },
     "execution_count": 401,
     "metadata": {},
     "output_type": "execute_result"
    }
   ],
   "source": [
    "df_q13['respLabel'].unique()"
   ]
  },
  {
   "cell_type": "code",
   "execution_count": 402,
   "metadata": {},
   "outputs": [
    {
     "data": {
      "text/plain": [
       "array(['no No answer'], dtype=object)"
      ]
     },
     "execution_count": 402,
     "metadata": {},
     "output_type": "execute_result"
    }
   ],
   "source": [
    "df_q14['respLabel'].unique()"
   ]
  },
  {
   "cell_type": "markdown",
   "metadata": {},
   "source": [
    "Do I need to make similar edits to q13?"
   ]
  },
  {
   "cell_type": "code",
   "execution_count": 403,
   "metadata": {},
   "outputs": [
    {
     "data": {
      "text/plain": [
       "array([\"Collecting data on issues that affect girls and women in policymaking isn't prioritized\"],\n",
       "      dtype=object)"
      ]
     },
     "execution_count": 403,
     "metadata": {},
     "output_type": "execute_result"
    }
   ],
   "source": [
    "df_q15a['wording'].unique()"
   ]
  },
  {
   "cell_type": "code",
   "execution_count": 404,
   "metadata": {},
   "outputs": [
    {
     "data": {
      "text/plain": [
       "array(['To what extent are the following factors relevant in explaining gaps in government data sources relating to gender equality?'],\n",
       "      dtype=object)"
      ]
     },
     "execution_count": 404,
     "metadata": {},
     "output_type": "execute_result"
    }
   ],
   "source": [
    "df_q15a['question'].unique()"
   ]
  },
  {
   "cell_type": "markdown",
   "metadata": {},
   "source": [
    "Nope!"
   ]
  },
  {
   "cell_type": "markdown",
   "metadata": {},
   "source": [
    "Try to format multi-punch questions for a network visualization"
   ]
  },
  {
   "cell_type": "code",
   "execution_count": 405,
   "metadata": {},
   "outputs": [
    {
     "data": {
      "text/plain": [
       "Index(['id', 'gender', 'generation', 'location', 'org', 'focus', 'qtype',\n",
       "       'question', 'wording', 'respValue', 'respLabel'],\n",
       "      dtype='object')"
      ]
     },
     "execution_count": 405,
     "metadata": {},
     "output_type": "execute_result"
    }
   ],
   "source": [
    "df_q1.columns"
   ]
  },
  {
   "cell_type": "code",
   "execution_count": 406,
   "metadata": {},
   "outputs": [
    {
     "data": {
      "text/plain": [
       "Index(['id', 'gender', 'generation', 'location', 'org', 'focus', 'qtype',\n",
       "       'question', 'wording', 'respValue', 'respLabel'],\n",
       "      dtype='object')"
      ]
     },
     "execution_count": 406,
     "metadata": {},
     "output_type": "execute_result"
    }
   ],
   "source": [
    "df_q2.columns"
   ]
  },
  {
   "cell_type": "code",
   "execution_count": 407,
   "metadata": {},
   "outputs": [],
   "source": [
    "df_q1.reset_index(drop = True, inplace = True)\n",
    "df_q2.reset_index(drop = True, inplace = True)\n",
    "df_q3.reset_index(drop = True, inplace = True)\n",
    "df_q4.reset_index(drop = True, inplace = True)\n",
    "df_q5.reset_index(drop = True, inplace = True)\n",
    "df_q6.reset_index(drop = True, inplace = True)\n",
    "df_q7.reset_index(drop = True, inplace = True)\n",
    "df_q8.reset_index(drop = True, inplace = True)\n",
    "df_q9.reset_index(drop = True, inplace = True)\n",
    "df_q10.reset_index(drop = True, inplace = True)\n",
    "df_q11.reset_index(drop = True, inplace = True)\n",
    "df_q12.reset_index(drop = True, inplace = True)\n",
    "df_q13.reset_index(drop = True, inplace = True)\n",
    "df_q14.reset_index(drop = True, inplace = True)"
   ]
  },
  {
   "cell_type": "code",
   "execution_count": 408,
   "metadata": {},
   "outputs": [],
   "source": [
    "df_multipunch = pd.concat([df_q1[['id', 'gender', 'generation', 'location', 'org', 'focus', 'qtype', 'respValue', 'respLabel']],\n",
    "                           df_q2[['respValue', 'respLabel']],\n",
    "                           df_q3[['respValue', 'respLabel']],\n",
    "                           df_q4[['respValue', 'respLabel']],\n",
    "                           df_q5[['respValue', 'respLabel']],\n",
    "                           df_q6[['respValue', 'respLabel']],\n",
    "                           df_q7[['respValue', 'respLabel']],\n",
    "                           df_q8[['respValue', 'respLabel']],\n",
    "                           df_q9[['respValue', 'respLabel']],\n",
    "                           df_q10[['respValue', 'respLabel']],\n",
    "                           df_q11[['respValue', 'respLabel']],\n",
    "                           df_q12[['respValue', 'respLabel']],\n",
    "                           df_q13[['respValue', 'respLabel']],\n",
    "                           df_q14[['respValue', 'respLabel']]],\n",
    "                           axis = 1, sort = False)"
   ]
  },
  {
   "cell_type": "code",
   "execution_count": 409,
   "metadata": {},
   "outputs": [
    {
     "data": {
      "text/html": [
       "<div>\n",
       "<style scoped>\n",
       "    .dataframe tbody tr th:only-of-type {\n",
       "        vertical-align: middle;\n",
       "    }\n",
       "\n",
       "    .dataframe tbody tr th {\n",
       "        vertical-align: top;\n",
       "    }\n",
       "\n",
       "    .dataframe thead th {\n",
       "        text-align: right;\n",
       "    }\n",
       "</style>\n",
       "<table border=\"1\" class=\"dataframe\">\n",
       "  <thead>\n",
       "    <tr style=\"text-align: right;\">\n",
       "      <th></th>\n",
       "      <th>id</th>\n",
       "      <th>gender</th>\n",
       "      <th>generation</th>\n",
       "      <th>location</th>\n",
       "      <th>org</th>\n",
       "      <th>focus</th>\n",
       "      <th>qtype</th>\n",
       "      <th>respValue</th>\n",
       "      <th>respLabel</th>\n",
       "      <th>respValue</th>\n",
       "      <th>...</th>\n",
       "      <th>respValue</th>\n",
       "      <th>respLabel</th>\n",
       "      <th>respValue</th>\n",
       "      <th>respLabel</th>\n",
       "      <th>respValue</th>\n",
       "      <th>respLabel</th>\n",
       "      <th>respValue</th>\n",
       "      <th>respLabel</th>\n",
       "      <th>respValue</th>\n",
       "      <th>respLabel</th>\n",
       "    </tr>\n",
       "  </thead>\n",
       "  <tbody>\n",
       "    <tr>\n",
       "      <th>0</th>\n",
       "      <td>1</td>\n",
       "      <td>Female</td>\n",
       "      <td>30-49</td>\n",
       "      <td>No answer (International)</td>\n",
       "      <td>NGO - girls/women's rights ARE sole focus</td>\n",
       "      <td>International</td>\n",
       "      <td>Multi-punch</td>\n",
       "      <td>1</td>\n",
       "      <td>Sexual and reproductive health and rights</td>\n",
       "      <td>0</td>\n",
       "      <td>...</td>\n",
       "      <td>0</td>\n",
       "      <td>None of the above</td>\n",
       "      <td>0</td>\n",
       "      <td>Do not know</td>\n",
       "      <td>0</td>\n",
       "      <td>No answer</td>\n",
       "      <td>0</td>\n",
       "      <td>no Don't know</td>\n",
       "      <td>0</td>\n",
       "      <td>no No answer</td>\n",
       "    </tr>\n",
       "    <tr>\n",
       "      <th>1</th>\n",
       "      <td>2</td>\n",
       "      <td>Female</td>\n",
       "      <td>30-49</td>\n",
       "      <td>Asia</td>\n",
       "      <td>Other</td>\n",
       "      <td>National or sub-national</td>\n",
       "      <td>Multi-punch</td>\n",
       "      <td>1</td>\n",
       "      <td>Sexual and reproductive health and rights</td>\n",
       "      <td>0</td>\n",
       "      <td>...</td>\n",
       "      <td>0</td>\n",
       "      <td>None of the above</td>\n",
       "      <td>0</td>\n",
       "      <td>Do not know</td>\n",
       "      <td>0</td>\n",
       "      <td>No answer</td>\n",
       "      <td>0</td>\n",
       "      <td>no Don't know</td>\n",
       "      <td>0</td>\n",
       "      <td>no No answer</td>\n",
       "    </tr>\n",
       "    <tr>\n",
       "      <th>2</th>\n",
       "      <td>3</td>\n",
       "      <td>Female</td>\n",
       "      <td>29 and under</td>\n",
       "      <td>North America and Europe</td>\n",
       "      <td>Other</td>\n",
       "      <td>National or sub-national</td>\n",
       "      <td>Multi-punch</td>\n",
       "      <td>1</td>\n",
       "      <td>Sexual and reproductive health and rights</td>\n",
       "      <td>1</td>\n",
       "      <td>...</td>\n",
       "      <td>0</td>\n",
       "      <td>None of the above</td>\n",
       "      <td>0</td>\n",
       "      <td>Do not know</td>\n",
       "      <td>0</td>\n",
       "      <td>No answer</td>\n",
       "      <td>0</td>\n",
       "      <td>no Don't know</td>\n",
       "      <td>0</td>\n",
       "      <td>no No answer</td>\n",
       "    </tr>\n",
       "    <tr>\n",
       "      <th>3</th>\n",
       "      <td>4</td>\n",
       "      <td>Female</td>\n",
       "      <td>30-49</td>\n",
       "      <td>Other</td>\n",
       "      <td>Private/business sector</td>\n",
       "      <td>National or sub-national</td>\n",
       "      <td>Multi-punch</td>\n",
       "      <td>0</td>\n",
       "      <td>Sexual and reproductive health and rights</td>\n",
       "      <td>1</td>\n",
       "      <td>...</td>\n",
       "      <td>0</td>\n",
       "      <td>None of the above</td>\n",
       "      <td>0</td>\n",
       "      <td>Do not know</td>\n",
       "      <td>0</td>\n",
       "      <td>No answer</td>\n",
       "      <td>0</td>\n",
       "      <td>no Don't know</td>\n",
       "      <td>0</td>\n",
       "      <td>no No answer</td>\n",
       "    </tr>\n",
       "    <tr>\n",
       "      <th>4</th>\n",
       "      <td>5</td>\n",
       "      <td>Female</td>\n",
       "      <td>30-49</td>\n",
       "      <td>No answer (International)</td>\n",
       "      <td>NGO - girls/women's rights NOT sole focus</td>\n",
       "      <td>International</td>\n",
       "      <td>Multi-punch</td>\n",
       "      <td>1</td>\n",
       "      <td>Sexual and reproductive health and rights</td>\n",
       "      <td>0</td>\n",
       "      <td>...</td>\n",
       "      <td>0</td>\n",
       "      <td>None of the above</td>\n",
       "      <td>0</td>\n",
       "      <td>Do not know</td>\n",
       "      <td>0</td>\n",
       "      <td>No answer</td>\n",
       "      <td>0</td>\n",
       "      <td>no Don't know</td>\n",
       "      <td>0</td>\n",
       "      <td>no No answer</td>\n",
       "    </tr>\n",
       "  </tbody>\n",
       "</table>\n",
       "<p>5 rows × 35 columns</p>\n",
       "</div>"
      ],
      "text/plain": [
       "   id  gender    generation                   location  \\\n",
       "0   1  Female         30-49  No answer (International)   \n",
       "1   2  Female         30-49                       Asia   \n",
       "2   3  Female  29 and under   North America and Europe   \n",
       "3   4  Female         30-49                      Other   \n",
       "4   5  Female         30-49  No answer (International)   \n",
       "\n",
       "                                         org                     focus  \\\n",
       "0  NGO - girls/women's rights ARE sole focus             International   \n",
       "1                                      Other  National or sub-national   \n",
       "2                                      Other  National or sub-national   \n",
       "3                    Private/business sector  National or sub-national   \n",
       "4  NGO - girls/women's rights NOT sole focus             International   \n",
       "\n",
       "         qtype respValue                                  respLabel respValue  \\\n",
       "0  Multi-punch         1  Sexual and reproductive health and rights         0   \n",
       "1  Multi-punch         1  Sexual and reproductive health and rights         0   \n",
       "2  Multi-punch         1  Sexual and reproductive health and rights         1   \n",
       "3  Multi-punch         0  Sexual and reproductive health and rights         1   \n",
       "4  Multi-punch         1  Sexual and reproductive health and rights         0   \n",
       "\n",
       "       ...      respValue          respLabel respValue    respLabel respValue  \\\n",
       "0      ...              0  None of the above         0  Do not know         0   \n",
       "1      ...              0  None of the above         0  Do not know         0   \n",
       "2      ...              0  None of the above         0  Do not know         0   \n",
       "3      ...              0  None of the above         0  Do not know         0   \n",
       "4      ...              0  None of the above         0  Do not know         0   \n",
       "\n",
       "   respLabel respValue      respLabel respValue     respLabel  \n",
       "0  No answer         0  no Don't know         0  no No answer  \n",
       "1  No answer         0  no Don't know         0  no No answer  \n",
       "2  No answer         0  no Don't know         0  no No answer  \n",
       "3  No answer         0  no Don't know         0  no No answer  \n",
       "4  No answer         0  no Don't know         0  no No answer  \n",
       "\n",
       "[5 rows x 35 columns]"
      ]
     },
     "execution_count": 409,
     "metadata": {},
     "output_type": "execute_result"
    }
   ],
   "source": [
    "df_multipunch.head()"
   ]
  },
  {
   "cell_type": "code",
   "execution_count": 410,
   "metadata": {},
   "outputs": [
    {
     "data": {
      "text/plain": [
       "Index(['id', 'gender', 'generation', 'location', 'org', 'focus', 'qtype',\n",
       "       'respValue', 'respLabel', 'respValue', 'respLabel', 'respValue',\n",
       "       'respLabel', 'respValue', 'respLabel', 'respValue', 'respLabel',\n",
       "       'respValue', 'respLabel', 'respValue', 'respLabel', 'respValue',\n",
       "       'respLabel', 'respValue', 'respLabel', 'respValue', 'respLabel',\n",
       "       'respValue', 'respLabel', 'respValue', 'respLabel', 'respValue',\n",
       "       'respLabel', 'respValue', 'respLabel'],\n",
       "      dtype='object')"
      ]
     },
     "execution_count": 410,
     "metadata": {},
     "output_type": "execute_result"
    }
   ],
   "source": [
    "df_multipunch.columns"
   ]
  },
  {
   "cell_type": "code",
   "execution_count": 411,
   "metadata": {},
   "outputs": [],
   "source": [
    "df_multipunch.columns = ['id', 'gender', 'generation', 'location', 'org', 'focus', 'qtype',\n",
    "                        'respValue1', 'respLabel1', 'respValue2', 'respLabel2', 'respValue3', 'respLabel3', 'respValue4', 'respLabel4',\n",
    "                        'respValue5', 'respLabel5', 'respValue6', 'respLabel6', 'respValue7', 'respLabel7', 'respValue8', 'respLabel8',\n",
    "                        'respValue9', 'respLabel9', 'respValue10', 'respLabel10', 'respValue11', 'respLabel11', 'respValue12', 'respLabel12',\n",
    "                        'respValue13', 'respLabel13', 'respValue14', 'respLabel14']"
   ]
  },
  {
   "cell_type": "markdown",
   "metadata": {},
   "source": [
    "df_multipunch contains the responses of each respondent to each of the multipunch questions"
   ]
  },
  {
   "cell_type": "code",
   "execution_count": 412,
   "metadata": {},
   "outputs": [
    {
     "data": {
      "text/html": [
       "<div>\n",
       "<style scoped>\n",
       "    .dataframe tbody tr th:only-of-type {\n",
       "        vertical-align: middle;\n",
       "    }\n",
       "\n",
       "    .dataframe tbody tr th {\n",
       "        vertical-align: top;\n",
       "    }\n",
       "\n",
       "    .dataframe thead th {\n",
       "        text-align: right;\n",
       "    }\n",
       "</style>\n",
       "<table border=\"1\" class=\"dataframe\">\n",
       "  <thead>\n",
       "    <tr style=\"text-align: right;\">\n",
       "      <th></th>\n",
       "      <th>id</th>\n",
       "      <th>gender</th>\n",
       "      <th>generation</th>\n",
       "      <th>location</th>\n",
       "      <th>org</th>\n",
       "      <th>focus</th>\n",
       "      <th>qtype</th>\n",
       "      <th>respValue1</th>\n",
       "      <th>respLabel1</th>\n",
       "      <th>respValue2</th>\n",
       "      <th>...</th>\n",
       "      <th>respValue10</th>\n",
       "      <th>respLabel10</th>\n",
       "      <th>respValue11</th>\n",
       "      <th>respLabel11</th>\n",
       "      <th>respValue12</th>\n",
       "      <th>respLabel12</th>\n",
       "      <th>respValue13</th>\n",
       "      <th>respLabel13</th>\n",
       "      <th>respValue14</th>\n",
       "      <th>respLabel14</th>\n",
       "    </tr>\n",
       "  </thead>\n",
       "  <tbody>\n",
       "    <tr>\n",
       "      <th>0</th>\n",
       "      <td>1</td>\n",
       "      <td>Female</td>\n",
       "      <td>30-49</td>\n",
       "      <td>No answer (International)</td>\n",
       "      <td>NGO - girls/women's rights ARE sole focus</td>\n",
       "      <td>International</td>\n",
       "      <td>Multi-punch</td>\n",
       "      <td>1</td>\n",
       "      <td>Sexual and reproductive health and rights</td>\n",
       "      <td>0</td>\n",
       "      <td>...</td>\n",
       "      <td>0</td>\n",
       "      <td>None of the above</td>\n",
       "      <td>0</td>\n",
       "      <td>Do not know</td>\n",
       "      <td>0</td>\n",
       "      <td>No answer</td>\n",
       "      <td>0</td>\n",
       "      <td>no Don't know</td>\n",
       "      <td>0</td>\n",
       "      <td>no No answer</td>\n",
       "    </tr>\n",
       "    <tr>\n",
       "      <th>1</th>\n",
       "      <td>2</td>\n",
       "      <td>Female</td>\n",
       "      <td>30-49</td>\n",
       "      <td>Asia</td>\n",
       "      <td>Other</td>\n",
       "      <td>National or sub-national</td>\n",
       "      <td>Multi-punch</td>\n",
       "      <td>1</td>\n",
       "      <td>Sexual and reproductive health and rights</td>\n",
       "      <td>0</td>\n",
       "      <td>...</td>\n",
       "      <td>0</td>\n",
       "      <td>None of the above</td>\n",
       "      <td>0</td>\n",
       "      <td>Do not know</td>\n",
       "      <td>0</td>\n",
       "      <td>No answer</td>\n",
       "      <td>0</td>\n",
       "      <td>no Don't know</td>\n",
       "      <td>0</td>\n",
       "      <td>no No answer</td>\n",
       "    </tr>\n",
       "    <tr>\n",
       "      <th>2</th>\n",
       "      <td>3</td>\n",
       "      <td>Female</td>\n",
       "      <td>29 and under</td>\n",
       "      <td>North America and Europe</td>\n",
       "      <td>Other</td>\n",
       "      <td>National or sub-national</td>\n",
       "      <td>Multi-punch</td>\n",
       "      <td>1</td>\n",
       "      <td>Sexual and reproductive health and rights</td>\n",
       "      <td>1</td>\n",
       "      <td>...</td>\n",
       "      <td>0</td>\n",
       "      <td>None of the above</td>\n",
       "      <td>0</td>\n",
       "      <td>Do not know</td>\n",
       "      <td>0</td>\n",
       "      <td>No answer</td>\n",
       "      <td>0</td>\n",
       "      <td>no Don't know</td>\n",
       "      <td>0</td>\n",
       "      <td>no No answer</td>\n",
       "    </tr>\n",
       "    <tr>\n",
       "      <th>3</th>\n",
       "      <td>4</td>\n",
       "      <td>Female</td>\n",
       "      <td>30-49</td>\n",
       "      <td>Other</td>\n",
       "      <td>Private/business sector</td>\n",
       "      <td>National or sub-national</td>\n",
       "      <td>Multi-punch</td>\n",
       "      <td>0</td>\n",
       "      <td>Sexual and reproductive health and rights</td>\n",
       "      <td>1</td>\n",
       "      <td>...</td>\n",
       "      <td>0</td>\n",
       "      <td>None of the above</td>\n",
       "      <td>0</td>\n",
       "      <td>Do not know</td>\n",
       "      <td>0</td>\n",
       "      <td>No answer</td>\n",
       "      <td>0</td>\n",
       "      <td>no Don't know</td>\n",
       "      <td>0</td>\n",
       "      <td>no No answer</td>\n",
       "    </tr>\n",
       "    <tr>\n",
       "      <th>4</th>\n",
       "      <td>5</td>\n",
       "      <td>Female</td>\n",
       "      <td>30-49</td>\n",
       "      <td>No answer (International)</td>\n",
       "      <td>NGO - girls/women's rights NOT sole focus</td>\n",
       "      <td>International</td>\n",
       "      <td>Multi-punch</td>\n",
       "      <td>1</td>\n",
       "      <td>Sexual and reproductive health and rights</td>\n",
       "      <td>0</td>\n",
       "      <td>...</td>\n",
       "      <td>0</td>\n",
       "      <td>None of the above</td>\n",
       "      <td>0</td>\n",
       "      <td>Do not know</td>\n",
       "      <td>0</td>\n",
       "      <td>No answer</td>\n",
       "      <td>0</td>\n",
       "      <td>no Don't know</td>\n",
       "      <td>0</td>\n",
       "      <td>no No answer</td>\n",
       "    </tr>\n",
       "  </tbody>\n",
       "</table>\n",
       "<p>5 rows × 35 columns</p>\n",
       "</div>"
      ],
      "text/plain": [
       "   id  gender    generation                   location  \\\n",
       "0   1  Female         30-49  No answer (International)   \n",
       "1   2  Female         30-49                       Asia   \n",
       "2   3  Female  29 and under   North America and Europe   \n",
       "3   4  Female         30-49                      Other   \n",
       "4   5  Female         30-49  No answer (International)   \n",
       "\n",
       "                                         org                     focus  \\\n",
       "0  NGO - girls/women's rights ARE sole focus             International   \n",
       "1                                      Other  National or sub-national   \n",
       "2                                      Other  National or sub-national   \n",
       "3                    Private/business sector  National or sub-national   \n",
       "4  NGO - girls/women's rights NOT sole focus             International   \n",
       "\n",
       "         qtype  respValue1                                 respLabel1  \\\n",
       "0  Multi-punch           1  Sexual and reproductive health and rights   \n",
       "1  Multi-punch           1  Sexual and reproductive health and rights   \n",
       "2  Multi-punch           1  Sexual and reproductive health and rights   \n",
       "3  Multi-punch           0  Sexual and reproductive health and rights   \n",
       "4  Multi-punch           1  Sexual and reproductive health and rights   \n",
       "\n",
       "   respValue2      ...      respValue10        respLabel10 respValue11  \\\n",
       "0           0      ...                0  None of the above           0   \n",
       "1           0      ...                0  None of the above           0   \n",
       "2           1      ...                0  None of the above           0   \n",
       "3           1      ...                0  None of the above           0   \n",
       "4           0      ...                0  None of the above           0   \n",
       "\n",
       "   respLabel11 respValue12  respLabel12 respValue13    respLabel13  \\\n",
       "0  Do not know           0    No answer           0  no Don't know   \n",
       "1  Do not know           0    No answer           0  no Don't know   \n",
       "2  Do not know           0    No answer           0  no Don't know   \n",
       "3  Do not know           0    No answer           0  no Don't know   \n",
       "4  Do not know           0    No answer           0  no Don't know   \n",
       "\n",
       "  respValue14   respLabel14  \n",
       "0           0  no No answer  \n",
       "1           0  no No answer  \n",
       "2           0  no No answer  \n",
       "3           0  no No answer  \n",
       "4           0  no No answer  \n",
       "\n",
       "[5 rows x 35 columns]"
      ]
     },
     "execution_count": 412,
     "metadata": {},
     "output_type": "execute_result"
    }
   ],
   "source": [
    "df_multipunch.head()"
   ]
  },
  {
   "cell_type": "code",
   "execution_count": 413,
   "metadata": {},
   "outputs": [],
   "source": [
    "df_multipunch['respNo'] = df_multipunch['respValue1'] + df_multipunch['respValue2'] + df_multipunch['respValue3'] + df_multipunch['respValue4'] + df_multipunch['respValue5'] + df_multipunch['respValue6'] + df_multipunch['respValue7'] + df_multipunch['respValue8'] + df_multipunch['respValue9'] + df_multipunch['respValue10'] + df_multipunch['respValue11'] + df_multipunch['respValue12'] + df_multipunch['respValue13'] + df_multipunch['respValue14']"
   ]
  },
  {
   "cell_type": "code",
   "execution_count": 414,
   "metadata": {},
   "outputs": [
    {
     "data": {
      "text/plain": [
       "0    3\n",
       "1    3\n",
       "2    3\n",
       "3    3\n",
       "4    3\n",
       "Name: respNo, dtype: int64"
      ]
     },
     "execution_count": 414,
     "metadata": {},
     "output_type": "execute_result"
    }
   ],
   "source": [
    "df_multipunch['respNo'].head()"
   ]
  },
  {
   "cell_type": "code",
   "execution_count": 415,
   "metadata": {},
   "outputs": [
    {
     "data": {
      "text/html": [
       "<div>\n",
       "<style scoped>\n",
       "    .dataframe tbody tr th:only-of-type {\n",
       "        vertical-align: middle;\n",
       "    }\n",
       "\n",
       "    .dataframe tbody tr th {\n",
       "        vertical-align: top;\n",
       "    }\n",
       "\n",
       "    .dataframe thead th {\n",
       "        text-align: right;\n",
       "    }\n",
       "</style>\n",
       "<table border=\"1\" class=\"dataframe\">\n",
       "  <thead>\n",
       "    <tr style=\"text-align: right;\">\n",
       "      <th></th>\n",
       "      <th>id</th>\n",
       "    </tr>\n",
       "    <tr>\n",
       "      <th>respNo</th>\n",
       "      <th></th>\n",
       "    </tr>\n",
       "  </thead>\n",
       "  <tbody>\n",
       "    <tr>\n",
       "      <th>1</th>\n",
       "      <td>7</td>\n",
       "    </tr>\n",
       "    <tr>\n",
       "      <th>3</th>\n",
       "      <td>606</td>\n",
       "    </tr>\n",
       "  </tbody>\n",
       "</table>\n",
       "</div>"
      ],
      "text/plain": [
       "         id\n",
       "respNo     \n",
       "1         7\n",
       "3       606"
      ]
     },
     "execution_count": 415,
     "metadata": {},
     "output_type": "execute_result"
    }
   ],
   "source": [
    "df_multipunch[['respNo', 'id']].groupby(by='respNo').count()"
   ]
  },
  {
   "cell_type": "markdown",
   "metadata": {},
   "source": [
    "Nobody failed to respond, but many respondents only chose 1 or 2 of the options"
   ]
  },
  {
   "cell_type": "markdown",
   "metadata": {},
   "source": [
    "For the network I want:  \n",
    "Nodes = one for every respLabel  \n",
    "Edges = connect each respLabel to every other respLabel with weight := number of respondents in common"
   ]
  },
  {
   "cell_type": "code",
   "execution_count": 416,
   "metadata": {},
   "outputs": [],
   "source": [
    "df_multipunch['respValue11'] += df_multipunch['respValue13']"
   ]
  },
  {
   "cell_type": "code",
   "execution_count": 417,
   "metadata": {},
   "outputs": [],
   "source": [
    "df_multipunch['respValue12'] += df_multipunch['respValue14']"
   ]
  },
  {
   "cell_type": "markdown",
   "metadata": {},
   "source": [
    "Dealing with duplicate columns ^"
   ]
  },
  {
   "cell_type": "code",
   "execution_count": 418,
   "metadata": {},
   "outputs": [],
   "source": [
    "df_multipunch.drop(['respValue13', 'respLabel13', 'respValue14', 'respLabel14'], axis=1, inplace=True)"
   ]
  },
  {
   "cell_type": "markdown",
   "metadata": {},
   "source": [
    "Finding data for the edges"
   ]
  },
  {
   "cell_type": "code",
   "execution_count": 419,
   "metadata": {},
   "outputs": [
    {
     "name": "stderr",
     "output_type": "stream",
     "text": [
      "/home/eric/anaconda3/lib/python3.7/site-packages/ipykernel_launcher.py:1: UserWarning: Boolean Series key will be reindexed to match DataFrame index.\n",
      "  \"\"\"Entry point for launching an IPython kernel.\n"
     ]
    },
    {
     "data": {
      "text/plain": [
       "53"
      ]
     },
     "execution_count": 419,
     "metadata": {},
     "output_type": "execute_result"
    }
   ],
   "source": [
    "df_multipunch[df_multipunch['respValue1'] == 1][df_multipunch['respValue2'] == 1].count()[0]"
   ]
  },
  {
   "cell_type": "code",
   "execution_count": 420,
   "metadata": {},
   "outputs": [
    {
     "name": "stderr",
     "output_type": "stream",
     "text": [
      "/home/eric/anaconda3/lib/python3.7/site-packages/ipykernel_launcher.py:1: UserWarning: Boolean Series key will be reindexed to match DataFrame index.\n",
      "  \"\"\"Entry point for launching an IPython kernel.\n"
     ]
    },
    {
     "data": {
      "text/plain": [
       "140"
      ]
     },
     "execution_count": 420,
     "metadata": {},
     "output_type": "execute_result"
    }
   ],
   "source": [
    "df_multipunch[df_multipunch['respValue1'] == 1][df_multipunch['respValue3'] == 1].count()[0]"
   ]
  },
  {
   "cell_type": "code",
   "execution_count": 421,
   "metadata": {},
   "outputs": [
    {
     "name": "stderr",
     "output_type": "stream",
     "text": [
      "/home/eric/anaconda3/lib/python3.7/site-packages/ipykernel_launcher.py:1: UserWarning: Boolean Series key will be reindexed to match DataFrame index.\n",
      "  \"\"\"Entry point for launching an IPython kernel.\n"
     ]
    },
    {
     "data": {
      "text/plain": [
       "78"
      ]
     },
     "execution_count": 421,
     "metadata": {},
     "output_type": "execute_result"
    }
   ],
   "source": [
    "df_multipunch[df_multipunch['respValue1'] == 1][df_multipunch['respValue4'] == 1].count()[0]"
   ]
  },
  {
   "cell_type": "code",
   "execution_count": 422,
   "metadata": {},
   "outputs": [
    {
     "name": "stderr",
     "output_type": "stream",
     "text": [
      "/home/eric/anaconda3/lib/python3.7/site-packages/ipykernel_launcher.py:1: UserWarning: Boolean Series key will be reindexed to match DataFrame index.\n",
      "  \"\"\"Entry point for launching an IPython kernel.\n"
     ]
    },
    {
     "data": {
      "text/plain": [
       "72"
      ]
     },
     "execution_count": 422,
     "metadata": {},
     "output_type": "execute_result"
    }
   ],
   "source": [
    "df_multipunch[df_multipunch['respValue1'] == 1][df_multipunch['respValue5'] == 1].count()[0]"
   ]
  },
  {
   "cell_type": "code",
   "execution_count": 423,
   "metadata": {},
   "outputs": [
    {
     "name": "stderr",
     "output_type": "stream",
     "text": [
      "/home/eric/anaconda3/lib/python3.7/site-packages/ipykernel_launcher.py:1: UserWarning: Boolean Series key will be reindexed to match DataFrame index.\n",
      "  \"\"\"Entry point for launching an IPython kernel.\n"
     ]
    },
    {
     "data": {
      "text/plain": [
       "50"
      ]
     },
     "execution_count": 423,
     "metadata": {},
     "output_type": "execute_result"
    }
   ],
   "source": [
    "df_multipunch[df_multipunch['respValue1'] == 1][df_multipunch['respValue6'] == 1].count()[0]"
   ]
  },
  {
   "cell_type": "code",
   "execution_count": 424,
   "metadata": {},
   "outputs": [
    {
     "name": "stderr",
     "output_type": "stream",
     "text": [
      "/home/eric/anaconda3/lib/python3.7/site-packages/ipykernel_launcher.py:1: UserWarning: Boolean Series key will be reindexed to match DataFrame index.\n",
      "  \"\"\"Entry point for launching an IPython kernel.\n"
     ]
    },
    {
     "data": {
      "text/plain": [
       "62"
      ]
     },
     "execution_count": 424,
     "metadata": {},
     "output_type": "execute_result"
    }
   ],
   "source": [
    "df_multipunch[df_multipunch['respValue1'] == 1][df_multipunch['respValue7'] == 1].count()[0]"
   ]
  },
  {
   "cell_type": "code",
   "execution_count": 425,
   "metadata": {},
   "outputs": [
    {
     "name": "stderr",
     "output_type": "stream",
     "text": [
      "/home/eric/anaconda3/lib/python3.7/site-packages/ipykernel_launcher.py:1: UserWarning: Boolean Series key will be reindexed to match DataFrame index.\n",
      "  \"\"\"Entry point for launching an IPython kernel.\n"
     ]
    },
    {
     "data": {
      "text/plain": [
       "12"
      ]
     },
     "execution_count": 425,
     "metadata": {},
     "output_type": "execute_result"
    }
   ],
   "source": [
    "df_multipunch[df_multipunch['respValue1'] == 1][df_multipunch['respValue8'] == 1].count()[0]"
   ]
  },
  {
   "cell_type": "code",
   "execution_count": 426,
   "metadata": {},
   "outputs": [
    {
     "name": "stderr",
     "output_type": "stream",
     "text": [
      "/home/eric/anaconda3/lib/python3.7/site-packages/ipykernel_launcher.py:1: UserWarning: Boolean Series key will be reindexed to match DataFrame index.\n",
      "  \"\"\"Entry point for launching an IPython kernel.\n"
     ]
    },
    {
     "data": {
      "text/plain": [
       "18"
      ]
     },
     "execution_count": 426,
     "metadata": {},
     "output_type": "execute_result"
    }
   ],
   "source": [
    "df_multipunch[df_multipunch['respValue1'] == 1][df_multipunch['respValue9'] == 1].count()[0]"
   ]
  },
  {
   "cell_type": "code",
   "execution_count": 427,
   "metadata": {},
   "outputs": [
    {
     "name": "stderr",
     "output_type": "stream",
     "text": [
      "/home/eric/anaconda3/lib/python3.7/site-packages/ipykernel_launcher.py:1: UserWarning: Boolean Series key will be reindexed to match DataFrame index.\n",
      "  \"\"\"Entry point for launching an IPython kernel.\n"
     ]
    },
    {
     "data": {
      "text/plain": [
       "31"
      ]
     },
     "execution_count": 427,
     "metadata": {},
     "output_type": "execute_result"
    }
   ],
   "source": [
    "df_multipunch[df_multipunch['respValue1'] == 1][df_multipunch['respValue10'] == 1].count()[0]"
   ]
  },
  {
   "cell_type": "code",
   "execution_count": 428,
   "metadata": {},
   "outputs": [
    {
     "name": "stderr",
     "output_type": "stream",
     "text": [
      "/home/eric/anaconda3/lib/python3.7/site-packages/ipykernel_launcher.py:1: UserWarning: Boolean Series key will be reindexed to match DataFrame index.\n",
      "  \"\"\"Entry point for launching an IPython kernel.\n"
     ]
    },
    {
     "data": {
      "text/plain": [
       "12"
      ]
     },
     "execution_count": 428,
     "metadata": {},
     "output_type": "execute_result"
    }
   ],
   "source": [
    "df_multipunch[df_multipunch['respValue1'] == 1][df_multipunch['respValue11'] == 1].count()[0]"
   ]
  },
  {
   "cell_type": "code",
   "execution_count": 429,
   "metadata": {},
   "outputs": [
    {
     "name": "stderr",
     "output_type": "stream",
     "text": [
      "/home/eric/anaconda3/lib/python3.7/site-packages/ipykernel_launcher.py:1: UserWarning: Boolean Series key will be reindexed to match DataFrame index.\n",
      "  \"\"\"Entry point for launching an IPython kernel.\n"
     ]
    },
    {
     "data": {
      "text/plain": [
       "0"
      ]
     },
     "execution_count": 429,
     "metadata": {},
     "output_type": "execute_result"
    }
   ],
   "source": [
    "df_multipunch[df_multipunch['respValue1'] == 1][df_multipunch['respValue12'] == 1].count()[0]"
   ]
  },
  {
   "cell_type": "code",
   "execution_count": 430,
   "metadata": {},
   "outputs": [
    {
     "name": "stderr",
     "output_type": "stream",
     "text": [
      "/home/eric/anaconda3/lib/python3.7/site-packages/ipykernel_launcher.py:1: UserWarning: Boolean Series key will be reindexed to match DataFrame index.\n",
      "  \"\"\"Entry point for launching an IPython kernel.\n"
     ]
    },
    {
     "data": {
      "text/plain": [
       "62"
      ]
     },
     "execution_count": 430,
     "metadata": {},
     "output_type": "execute_result"
    }
   ],
   "source": [
    "df_multipunch[df_multipunch['respValue2'] == 1][df_multipunch['respValue3'] == 1].count()[0]"
   ]
  },
  {
   "cell_type": "code",
   "execution_count": 431,
   "metadata": {},
   "outputs": [
    {
     "name": "stderr",
     "output_type": "stream",
     "text": [
      "/home/eric/anaconda3/lib/python3.7/site-packages/ipykernel_launcher.py:1: UserWarning: Boolean Series key will be reindexed to match DataFrame index.\n",
      "  \"\"\"Entry point for launching an IPython kernel.\n"
     ]
    },
    {
     "data": {
      "text/plain": [
       "43"
      ]
     },
     "execution_count": 431,
     "metadata": {},
     "output_type": "execute_result"
    }
   ],
   "source": [
    "df_multipunch[df_multipunch['respValue2'] == 1][df_multipunch['respValue4'] == 1].count()[0]"
   ]
  },
  {
   "cell_type": "code",
   "execution_count": 432,
   "metadata": {},
   "outputs": [
    {
     "name": "stderr",
     "output_type": "stream",
     "text": [
      "/home/eric/anaconda3/lib/python3.7/site-packages/ipykernel_launcher.py:1: UserWarning: Boolean Series key will be reindexed to match DataFrame index.\n",
      "  \"\"\"Entry point for launching an IPython kernel.\n"
     ]
    },
    {
     "data": {
      "text/plain": [
       "33"
      ]
     },
     "execution_count": 432,
     "metadata": {},
     "output_type": "execute_result"
    }
   ],
   "source": [
    "df_multipunch[df_multipunch['respValue2'] == 1][df_multipunch['respValue5'] == 1].count()[0]"
   ]
  },
  {
   "cell_type": "code",
   "execution_count": 433,
   "metadata": {},
   "outputs": [
    {
     "name": "stderr",
     "output_type": "stream",
     "text": [
      "/home/eric/anaconda3/lib/python3.7/site-packages/ipykernel_launcher.py:1: UserWarning: Boolean Series key will be reindexed to match DataFrame index.\n",
      "  \"\"\"Entry point for launching an IPython kernel.\n"
     ]
    },
    {
     "data": {
      "text/plain": [
       "15"
      ]
     },
     "execution_count": 433,
     "metadata": {},
     "output_type": "execute_result"
    }
   ],
   "source": [
    "df_multipunch[df_multipunch['respValue2'] == 1][df_multipunch['respValue6'] == 1].count()[0]"
   ]
  },
  {
   "cell_type": "code",
   "execution_count": 434,
   "metadata": {},
   "outputs": [
    {
     "name": "stderr",
     "output_type": "stream",
     "text": [
      "/home/eric/anaconda3/lib/python3.7/site-packages/ipykernel_launcher.py:1: UserWarning: Boolean Series key will be reindexed to match DataFrame index.\n",
      "  \"\"\"Entry point for launching an IPython kernel.\n"
     ]
    },
    {
     "data": {
      "text/plain": [
       "23"
      ]
     },
     "execution_count": 434,
     "metadata": {},
     "output_type": "execute_result"
    }
   ],
   "source": [
    "df_multipunch[df_multipunch['respValue2'] == 1][df_multipunch['respValue7'] == 1].count()[0]"
   ]
  },
  {
   "cell_type": "code",
   "execution_count": 435,
   "metadata": {},
   "outputs": [
    {
     "name": "stderr",
     "output_type": "stream",
     "text": [
      "/home/eric/anaconda3/lib/python3.7/site-packages/ipykernel_launcher.py:1: UserWarning: Boolean Series key will be reindexed to match DataFrame index.\n",
      "  \"\"\"Entry point for launching an IPython kernel.\n"
     ]
    },
    {
     "data": {
      "text/plain": [
       "7"
      ]
     },
     "execution_count": 435,
     "metadata": {},
     "output_type": "execute_result"
    }
   ],
   "source": [
    "df_multipunch[df_multipunch['respValue2'] == 1][df_multipunch['respValue8'] == 1].count()[0]"
   ]
  },
  {
   "cell_type": "code",
   "execution_count": 436,
   "metadata": {},
   "outputs": [
    {
     "name": "stderr",
     "output_type": "stream",
     "text": [
      "/home/eric/anaconda3/lib/python3.7/site-packages/ipykernel_launcher.py:1: UserWarning: Boolean Series key will be reindexed to match DataFrame index.\n",
      "  \"\"\"Entry point for launching an IPython kernel.\n"
     ]
    },
    {
     "data": {
      "text/plain": [
       "6"
      ]
     },
     "execution_count": 436,
     "metadata": {},
     "output_type": "execute_result"
    }
   ],
   "source": [
    "df_multipunch[df_multipunch['respValue2'] == 1][df_multipunch['respValue9'] == 1].count()[0]"
   ]
  },
  {
   "cell_type": "code",
   "execution_count": 437,
   "metadata": {},
   "outputs": [
    {
     "name": "stderr",
     "output_type": "stream",
     "text": [
      "/home/eric/anaconda3/lib/python3.7/site-packages/ipykernel_launcher.py:1: UserWarning: Boolean Series key will be reindexed to match DataFrame index.\n",
      "  \"\"\"Entry point for launching an IPython kernel.\n"
     ]
    },
    {
     "data": {
      "text/plain": [
       "9"
      ]
     },
     "execution_count": 437,
     "metadata": {},
     "output_type": "execute_result"
    }
   ],
   "source": [
    "df_multipunch[df_multipunch['respValue2'] == 1][df_multipunch['respValue10'] == 1].count()[0]"
   ]
  },
  {
   "cell_type": "code",
   "execution_count": 438,
   "metadata": {},
   "outputs": [
    {
     "name": "stderr",
     "output_type": "stream",
     "text": [
      "/home/eric/anaconda3/lib/python3.7/site-packages/ipykernel_launcher.py:1: UserWarning: Boolean Series key will be reindexed to match DataFrame index.\n",
      "  \"\"\"Entry point for launching an IPython kernel.\n"
     ]
    },
    {
     "data": {
      "text/plain": [
       "3"
      ]
     },
     "execution_count": 438,
     "metadata": {},
     "output_type": "execute_result"
    }
   ],
   "source": [
    "df_multipunch[df_multipunch['respValue2'] == 1][df_multipunch['respValue11'] == 1].count()[0]"
   ]
  },
  {
   "cell_type": "code",
   "execution_count": 439,
   "metadata": {},
   "outputs": [
    {
     "name": "stderr",
     "output_type": "stream",
     "text": [
      "/home/eric/anaconda3/lib/python3.7/site-packages/ipykernel_launcher.py:1: UserWarning: Boolean Series key will be reindexed to match DataFrame index.\n",
      "  \"\"\"Entry point for launching an IPython kernel.\n"
     ]
    },
    {
     "data": {
      "text/plain": [
       "0"
      ]
     },
     "execution_count": 439,
     "metadata": {},
     "output_type": "execute_result"
    }
   ],
   "source": [
    "df_multipunch[df_multipunch['respValue2'] == 1][df_multipunch['respValue12'] == 1].count()[0]"
   ]
  },
  {
   "cell_type": "code",
   "execution_count": 440,
   "metadata": {},
   "outputs": [
    {
     "name": "stderr",
     "output_type": "stream",
     "text": [
      "/home/eric/anaconda3/lib/python3.7/site-packages/ipykernel_launcher.py:1: UserWarning: Boolean Series key will be reindexed to match DataFrame index.\n",
      "  \"\"\"Entry point for launching an IPython kernel.\n"
     ]
    },
    {
     "data": {
      "text/plain": [
       "90"
      ]
     },
     "execution_count": 440,
     "metadata": {},
     "output_type": "execute_result"
    }
   ],
   "source": [
    "df_multipunch[df_multipunch['respValue3'] == 1][df_multipunch['respValue4'] == 1].count()[0]"
   ]
  },
  {
   "cell_type": "code",
   "execution_count": 441,
   "metadata": {},
   "outputs": [
    {
     "name": "stderr",
     "output_type": "stream",
     "text": [
      "/home/eric/anaconda3/lib/python3.7/site-packages/ipykernel_launcher.py:1: UserWarning: Boolean Series key will be reindexed to match DataFrame index.\n",
      "  \"\"\"Entry point for launching an IPython kernel.\n"
     ]
    },
    {
     "data": {
      "text/plain": [
       "105"
      ]
     },
     "execution_count": 441,
     "metadata": {},
     "output_type": "execute_result"
    }
   ],
   "source": [
    "df_multipunch[df_multipunch['respValue3'] == 1][df_multipunch['respValue5'] == 1].count()[0]"
   ]
  },
  {
   "cell_type": "code",
   "execution_count": 442,
   "metadata": {},
   "outputs": [
    {
     "name": "stderr",
     "output_type": "stream",
     "text": [
      "/home/eric/anaconda3/lib/python3.7/site-packages/ipykernel_launcher.py:1: UserWarning: Boolean Series key will be reindexed to match DataFrame index.\n",
      "  \"\"\"Entry point for launching an IPython kernel.\n"
     ]
    },
    {
     "data": {
      "text/plain": [
       "98"
      ]
     },
     "execution_count": 442,
     "metadata": {},
     "output_type": "execute_result"
    }
   ],
   "source": [
    "df_multipunch[df_multipunch['respValue3'] == 1][df_multipunch['respValue6'] == 1].count()[0]"
   ]
  },
  {
   "cell_type": "code",
   "execution_count": 443,
   "metadata": {},
   "outputs": [
    {
     "name": "stderr",
     "output_type": "stream",
     "text": [
      "/home/eric/anaconda3/lib/python3.7/site-packages/ipykernel_launcher.py:1: UserWarning: Boolean Series key will be reindexed to match DataFrame index.\n",
      "  \"\"\"Entry point for launching an IPython kernel.\n"
     ]
    },
    {
     "data": {
      "text/plain": [
       "105"
      ]
     },
     "execution_count": 443,
     "metadata": {},
     "output_type": "execute_result"
    }
   ],
   "source": [
    "df_multipunch[df_multipunch['respValue3'] == 1][df_multipunch['respValue7'] == 1].count()[0]"
   ]
  },
  {
   "cell_type": "code",
   "execution_count": 444,
   "metadata": {},
   "outputs": [
    {
     "name": "stderr",
     "output_type": "stream",
     "text": [
      "/home/eric/anaconda3/lib/python3.7/site-packages/ipykernel_launcher.py:1: UserWarning: Boolean Series key will be reindexed to match DataFrame index.\n",
      "  \"\"\"Entry point for launching an IPython kernel.\n"
     ]
    },
    {
     "data": {
      "text/plain": [
       "18"
      ]
     },
     "execution_count": 444,
     "metadata": {},
     "output_type": "execute_result"
    }
   ],
   "source": [
    "df_multipunch[df_multipunch['respValue3'] == 1][df_multipunch['respValue8'] == 1].count()[0]"
   ]
  },
  {
   "cell_type": "code",
   "execution_count": 445,
   "metadata": {},
   "outputs": [
    {
     "name": "stderr",
     "output_type": "stream",
     "text": [
      "/home/eric/anaconda3/lib/python3.7/site-packages/ipykernel_launcher.py:1: UserWarning: Boolean Series key will be reindexed to match DataFrame index.\n",
      "  \"\"\"Entry point for launching an IPython kernel.\n"
     ]
    },
    {
     "data": {
      "text/plain": [
       "23"
      ]
     },
     "execution_count": 445,
     "metadata": {},
     "output_type": "execute_result"
    }
   ],
   "source": [
    "df_multipunch[df_multipunch['respValue3'] == 1][df_multipunch['respValue9'] == 1].count()[0]"
   ]
  },
  {
   "cell_type": "code",
   "execution_count": 449,
   "metadata": {},
   "outputs": [
    {
     "name": "stderr",
     "output_type": "stream",
     "text": [
      "/home/eric/anaconda3/lib/python3.7/site-packages/ipykernel_launcher.py:1: UserWarning: Boolean Series key will be reindexed to match DataFrame index.\n",
      "  \"\"\"Entry point for launching an IPython kernel.\n"
     ]
    },
    {
     "data": {
      "text/plain": [
       "46"
      ]
     },
     "execution_count": 449,
     "metadata": {},
     "output_type": "execute_result"
    }
   ],
   "source": [
    "df_multipunch[df_multipunch['respValue3'] == 1][df_multipunch['respValue10'] == 1].count()[0]"
   ]
  },
  {
   "cell_type": "code",
   "execution_count": 450,
   "metadata": {},
   "outputs": [
    {
     "name": "stderr",
     "output_type": "stream",
     "text": [
      "/home/eric/anaconda3/lib/python3.7/site-packages/ipykernel_launcher.py:1: UserWarning: Boolean Series key will be reindexed to match DataFrame index.\n",
      "  \"\"\"Entry point for launching an IPython kernel.\n"
     ]
    },
    {
     "data": {
      "text/plain": [
       "21"
      ]
     },
     "execution_count": 450,
     "metadata": {},
     "output_type": "execute_result"
    }
   ],
   "source": [
    "df_multipunch[df_multipunch['respValue3'] == 1][df_multipunch['respValue11'] == 1].count()[0]"
   ]
  },
  {
   "cell_type": "code",
   "execution_count": 451,
   "metadata": {},
   "outputs": [
    {
     "name": "stderr",
     "output_type": "stream",
     "text": [
      "/home/eric/anaconda3/lib/python3.7/site-packages/ipykernel_launcher.py:1: UserWarning: Boolean Series key will be reindexed to match DataFrame index.\n",
      "  \"\"\"Entry point for launching an IPython kernel.\n"
     ]
    },
    {
     "data": {
      "text/plain": [
       "0"
      ]
     },
     "execution_count": 451,
     "metadata": {},
     "output_type": "execute_result"
    }
   ],
   "source": [
    "df_multipunch[df_multipunch['respValue3'] == 1][df_multipunch['respValue12'] == 1].count()[0]"
   ]
  },
  {
   "cell_type": "code",
   "execution_count": 452,
   "metadata": {},
   "outputs": [
    {
     "name": "stderr",
     "output_type": "stream",
     "text": [
      "/home/eric/anaconda3/lib/python3.7/site-packages/ipykernel_launcher.py:1: UserWarning: Boolean Series key will be reindexed to match DataFrame index.\n",
      "  \"\"\"Entry point for launching an IPython kernel.\n"
     ]
    },
    {
     "data": {
      "text/plain": [
       "67"
      ]
     },
     "execution_count": 452,
     "metadata": {},
     "output_type": "execute_result"
    }
   ],
   "source": [
    "df_multipunch[df_multipunch['respValue4'] == 1][df_multipunch['respValue5'] == 1].count()[0]"
   ]
  },
  {
   "cell_type": "code",
   "execution_count": 453,
   "metadata": {},
   "outputs": [
    {
     "name": "stderr",
     "output_type": "stream",
     "text": [
      "/home/eric/anaconda3/lib/python3.7/site-packages/ipykernel_launcher.py:1: UserWarning: Boolean Series key will be reindexed to match DataFrame index.\n",
      "  \"\"\"Entry point for launching an IPython kernel.\n"
     ]
    },
    {
     "data": {
      "text/plain": [
       "44"
      ]
     },
     "execution_count": 453,
     "metadata": {},
     "output_type": "execute_result"
    }
   ],
   "source": [
    "df_multipunch[df_multipunch['respValue4'] == 1][df_multipunch['respValue6'] == 1].count()[0]"
   ]
  },
  {
   "cell_type": "code",
   "execution_count": 454,
   "metadata": {},
   "outputs": [
    {
     "name": "stderr",
     "output_type": "stream",
     "text": [
      "/home/eric/anaconda3/lib/python3.7/site-packages/ipykernel_launcher.py:1: UserWarning: Boolean Series key will be reindexed to match DataFrame index.\n",
      "  \"\"\"Entry point for launching an IPython kernel.\n"
     ]
    },
    {
     "data": {
      "text/plain": [
       "51"
      ]
     },
     "execution_count": 454,
     "metadata": {},
     "output_type": "execute_result"
    }
   ],
   "source": [
    "df_multipunch[df_multipunch['respValue4'] == 1][df_multipunch['respValue7'] == 1].count()[0]"
   ]
  },
  {
   "cell_type": "code",
   "execution_count": 455,
   "metadata": {},
   "outputs": [
    {
     "name": "stderr",
     "output_type": "stream",
     "text": [
      "/home/eric/anaconda3/lib/python3.7/site-packages/ipykernel_launcher.py:1: UserWarning: Boolean Series key will be reindexed to match DataFrame index.\n",
      "  \"\"\"Entry point for launching an IPython kernel.\n"
     ]
    },
    {
     "data": {
      "text/plain": [
       "18"
      ]
     },
     "execution_count": 455,
     "metadata": {},
     "output_type": "execute_result"
    }
   ],
   "source": [
    "df_multipunch[df_multipunch['respValue4'] == 1][df_multipunch['respValue8'] == 1].count()[0]"
   ]
  },
  {
   "cell_type": "code",
   "execution_count": 456,
   "metadata": {},
   "outputs": [
    {
     "name": "stderr",
     "output_type": "stream",
     "text": [
      "/home/eric/anaconda3/lib/python3.7/site-packages/ipykernel_launcher.py:1: UserWarning: Boolean Series key will be reindexed to match DataFrame index.\n",
      "  \"\"\"Entry point for launching an IPython kernel.\n"
     ]
    },
    {
     "data": {
      "text/plain": [
       "10"
      ]
     },
     "execution_count": 456,
     "metadata": {},
     "output_type": "execute_result"
    }
   ],
   "source": [
    "df_multipunch[df_multipunch['respValue4'] == 1][df_multipunch['respValue9'] == 1].count()[0]"
   ]
  },
  {
   "cell_type": "code",
   "execution_count": 457,
   "metadata": {},
   "outputs": [
    {
     "name": "stderr",
     "output_type": "stream",
     "text": [
      "/home/eric/anaconda3/lib/python3.7/site-packages/ipykernel_launcher.py:1: UserWarning: Boolean Series key will be reindexed to match DataFrame index.\n",
      "  \"\"\"Entry point for launching an IPython kernel.\n"
     ]
    },
    {
     "data": {
      "text/plain": [
       "21"
      ]
     },
     "execution_count": 457,
     "metadata": {},
     "output_type": "execute_result"
    }
   ],
   "source": [
    "df_multipunch[df_multipunch['respValue4'] == 1][df_multipunch['respValue10'] == 1].count()[0]"
   ]
  },
  {
   "cell_type": "code",
   "execution_count": 458,
   "metadata": {},
   "outputs": [
    {
     "name": "stderr",
     "output_type": "stream",
     "text": [
      "/home/eric/anaconda3/lib/python3.7/site-packages/ipykernel_launcher.py:1: UserWarning: Boolean Series key will be reindexed to match DataFrame index.\n",
      "  \"\"\"Entry point for launching an IPython kernel.\n"
     ]
    },
    {
     "data": {
      "text/plain": [
       "10"
      ]
     },
     "execution_count": 458,
     "metadata": {},
     "output_type": "execute_result"
    }
   ],
   "source": [
    "df_multipunch[df_multipunch['respValue4'] == 1][df_multipunch['respValue11'] == 1].count()[0]"
   ]
  },
  {
   "cell_type": "code",
   "execution_count": 459,
   "metadata": {},
   "outputs": [
    {
     "name": "stderr",
     "output_type": "stream",
     "text": [
      "/home/eric/anaconda3/lib/python3.7/site-packages/ipykernel_launcher.py:1: UserWarning: Boolean Series key will be reindexed to match DataFrame index.\n",
      "  \"\"\"Entry point for launching an IPython kernel.\n"
     ]
    },
    {
     "data": {
      "text/plain": [
       "0"
      ]
     },
     "execution_count": 459,
     "metadata": {},
     "output_type": "execute_result"
    }
   ],
   "source": [
    "df_multipunch[df_multipunch['respValue4'] == 1][df_multipunch['respValue12'] == 1].count()[0]"
   ]
  },
  {
   "cell_type": "code",
   "execution_count": 460,
   "metadata": {},
   "outputs": [
    {
     "name": "stderr",
     "output_type": "stream",
     "text": [
      "/home/eric/anaconda3/lib/python3.7/site-packages/ipykernel_launcher.py:1: UserWarning: Boolean Series key will be reindexed to match DataFrame index.\n",
      "  \"\"\"Entry point for launching an IPython kernel.\n"
     ]
    },
    {
     "data": {
      "text/plain": [
       "53"
      ]
     },
     "execution_count": 460,
     "metadata": {},
     "output_type": "execute_result"
    }
   ],
   "source": [
    "df_multipunch[df_multipunch['respValue5'] == 1][df_multipunch['respValue6'] == 1].count()[0]"
   ]
  },
  {
   "cell_type": "code",
   "execution_count": 461,
   "metadata": {},
   "outputs": [
    {
     "name": "stderr",
     "output_type": "stream",
     "text": [
      "/home/eric/anaconda3/lib/python3.7/site-packages/ipykernel_launcher.py:1: UserWarning: Boolean Series key will be reindexed to match DataFrame index.\n",
      "  \"\"\"Entry point for launching an IPython kernel.\n"
     ]
    },
    {
     "data": {
      "text/plain": [
       "63"
      ]
     },
     "execution_count": 461,
     "metadata": {},
     "output_type": "execute_result"
    }
   ],
   "source": [
    "df_multipunch[df_multipunch['respValue5'] == 1][df_multipunch['respValue7'] == 1].count()[0]"
   ]
  },
  {
   "cell_type": "code",
   "execution_count": 462,
   "metadata": {},
   "outputs": [
    {
     "name": "stderr",
     "output_type": "stream",
     "text": [
      "/home/eric/anaconda3/lib/python3.7/site-packages/ipykernel_launcher.py:1: UserWarning: Boolean Series key will be reindexed to match DataFrame index.\n",
      "  \"\"\"Entry point for launching an IPython kernel.\n"
     ]
    },
    {
     "data": {
      "text/plain": [
       "22"
      ]
     },
     "execution_count": 462,
     "metadata": {},
     "output_type": "execute_result"
    }
   ],
   "source": [
    "df_multipunch[df_multipunch['respValue5'] == 1][df_multipunch['respValue8'] == 1].count()[0]"
   ]
  },
  {
   "cell_type": "code",
   "execution_count": 463,
   "metadata": {},
   "outputs": [
    {
     "name": "stderr",
     "output_type": "stream",
     "text": [
      "/home/eric/anaconda3/lib/python3.7/site-packages/ipykernel_launcher.py:1: UserWarning: Boolean Series key will be reindexed to match DataFrame index.\n",
      "  \"\"\"Entry point for launching an IPython kernel.\n"
     ]
    },
    {
     "data": {
      "text/plain": [
       "18"
      ]
     },
     "execution_count": 463,
     "metadata": {},
     "output_type": "execute_result"
    }
   ],
   "source": [
    "df_multipunch[df_multipunch['respValue5'] == 1][df_multipunch['respValue9'] == 1].count()[0]"
   ]
  },
  {
   "cell_type": "code",
   "execution_count": 464,
   "metadata": {},
   "outputs": [
    {
     "name": "stderr",
     "output_type": "stream",
     "text": [
      "/home/eric/anaconda3/lib/python3.7/site-packages/ipykernel_launcher.py:1: UserWarning: Boolean Series key will be reindexed to match DataFrame index.\n",
      "  \"\"\"Entry point for launching an IPython kernel.\n"
     ]
    },
    {
     "data": {
      "text/plain": [
       "22"
      ]
     },
     "execution_count": 464,
     "metadata": {},
     "output_type": "execute_result"
    }
   ],
   "source": [
    "df_multipunch[df_multipunch['respValue5'] == 1][df_multipunch['respValue10'] == 1].count()[0]"
   ]
  },
  {
   "cell_type": "code",
   "execution_count": 465,
   "metadata": {},
   "outputs": [
    {
     "name": "stderr",
     "output_type": "stream",
     "text": [
      "/home/eric/anaconda3/lib/python3.7/site-packages/ipykernel_launcher.py:1: UserWarning: Boolean Series key will be reindexed to match DataFrame index.\n",
      "  \"\"\"Entry point for launching an IPython kernel.\n"
     ]
    },
    {
     "data": {
      "text/plain": [
       "9"
      ]
     },
     "execution_count": 465,
     "metadata": {},
     "output_type": "execute_result"
    }
   ],
   "source": [
    "df_multipunch[df_multipunch['respValue5'] == 1][df_multipunch['respValue11'] == 1].count()[0]"
   ]
  },
  {
   "cell_type": "code",
   "execution_count": 466,
   "metadata": {},
   "outputs": [
    {
     "name": "stderr",
     "output_type": "stream",
     "text": [
      "/home/eric/anaconda3/lib/python3.7/site-packages/ipykernel_launcher.py:1: UserWarning: Boolean Series key will be reindexed to match DataFrame index.\n",
      "  \"\"\"Entry point for launching an IPython kernel.\n"
     ]
    },
    {
     "data": {
      "text/plain": [
       "0"
      ]
     },
     "execution_count": 466,
     "metadata": {},
     "output_type": "execute_result"
    }
   ],
   "source": [
    "df_multipunch[df_multipunch['respValue5'] == 1][df_multipunch['respValue12'] == 1].count()[0]"
   ]
  },
  {
   "cell_type": "code",
   "execution_count": 467,
   "metadata": {},
   "outputs": [
    {
     "name": "stderr",
     "output_type": "stream",
     "text": [
      "/home/eric/anaconda3/lib/python3.7/site-packages/ipykernel_launcher.py:1: UserWarning: Boolean Series key will be reindexed to match DataFrame index.\n",
      "  \"\"\"Entry point for launching an IPython kernel.\n"
     ]
    },
    {
     "data": {
      "text/plain": [
       "54"
      ]
     },
     "execution_count": 467,
     "metadata": {},
     "output_type": "execute_result"
    }
   ],
   "source": [
    "df_multipunch[df_multipunch['respValue6'] == 1][df_multipunch['respValue7'] == 1].count()[0]"
   ]
  },
  {
   "cell_type": "code",
   "execution_count": 468,
   "metadata": {},
   "outputs": [
    {
     "name": "stderr",
     "output_type": "stream",
     "text": [
      "/home/eric/anaconda3/lib/python3.7/site-packages/ipykernel_launcher.py:1: UserWarning: Boolean Series key will be reindexed to match DataFrame index.\n",
      "  \"\"\"Entry point for launching an IPython kernel.\n"
     ]
    },
    {
     "data": {
      "text/plain": [
       "5"
      ]
     },
     "execution_count": 468,
     "metadata": {},
     "output_type": "execute_result"
    }
   ],
   "source": [
    "df_multipunch[df_multipunch['respValue6'] == 1][df_multipunch['respValue8'] == 1].count()[0]"
   ]
  },
  {
   "cell_type": "code",
   "execution_count": 470,
   "metadata": {},
   "outputs": [
    {
     "name": "stderr",
     "output_type": "stream",
     "text": [
      "/home/eric/anaconda3/lib/python3.7/site-packages/ipykernel_launcher.py:1: UserWarning: Boolean Series key will be reindexed to match DataFrame index.\n",
      "  \"\"\"Entry point for launching an IPython kernel.\n"
     ]
    },
    {
     "data": {
      "text/plain": [
       "6"
      ]
     },
     "execution_count": 470,
     "metadata": {},
     "output_type": "execute_result"
    }
   ],
   "source": [
    "df_multipunch[df_multipunch['respValue6'] == 1][df_multipunch['respValue9'] == 1].count()[0]"
   ]
  },
  {
   "cell_type": "code",
   "execution_count": 471,
   "metadata": {},
   "outputs": [
    {
     "name": "stderr",
     "output_type": "stream",
     "text": [
      "/home/eric/anaconda3/lib/python3.7/site-packages/ipykernel_launcher.py:1: UserWarning: Boolean Series key will be reindexed to match DataFrame index.\n",
      "  \"\"\"Entry point for launching an IPython kernel.\n"
     ]
    },
    {
     "data": {
      "text/plain": [
       "14"
      ]
     },
     "execution_count": 471,
     "metadata": {},
     "output_type": "execute_result"
    }
   ],
   "source": [
    "df_multipunch[df_multipunch['respValue6'] == 1][df_multipunch['respValue10'] == 1].count()[0]"
   ]
  },
  {
   "cell_type": "code",
   "execution_count": 472,
   "metadata": {},
   "outputs": [
    {
     "name": "stderr",
     "output_type": "stream",
     "text": [
      "/home/eric/anaconda3/lib/python3.7/site-packages/ipykernel_launcher.py:1: UserWarning: Boolean Series key will be reindexed to match DataFrame index.\n",
      "  \"\"\"Entry point for launching an IPython kernel.\n"
     ]
    },
    {
     "data": {
      "text/plain": [
       "15"
      ]
     },
     "execution_count": 472,
     "metadata": {},
     "output_type": "execute_result"
    }
   ],
   "source": [
    "df_multipunch[df_multipunch['respValue6'] == 1][df_multipunch['respValue11'] == 1].count()[0]"
   ]
  },
  {
   "cell_type": "code",
   "execution_count": 473,
   "metadata": {},
   "outputs": [
    {
     "name": "stderr",
     "output_type": "stream",
     "text": [
      "/home/eric/anaconda3/lib/python3.7/site-packages/ipykernel_launcher.py:1: UserWarning: Boolean Series key will be reindexed to match DataFrame index.\n",
      "  \"\"\"Entry point for launching an IPython kernel.\n"
     ]
    },
    {
     "data": {
      "text/plain": [
       "0"
      ]
     },
     "execution_count": 473,
     "metadata": {},
     "output_type": "execute_result"
    }
   ],
   "source": [
    "df_multipunch[df_multipunch['respValue6'] == 1][df_multipunch['respValue12'] == 1].count()[0]"
   ]
  },
  {
   "cell_type": "code",
   "execution_count": 474,
   "metadata": {},
   "outputs": [
    {
     "name": "stderr",
     "output_type": "stream",
     "text": [
      "/home/eric/anaconda3/lib/python3.7/site-packages/ipykernel_launcher.py:1: UserWarning: Boolean Series key will be reindexed to match DataFrame index.\n",
      "  \"\"\"Entry point for launching an IPython kernel.\n"
     ]
    },
    {
     "data": {
      "text/plain": [
       "10"
      ]
     },
     "execution_count": 474,
     "metadata": {},
     "output_type": "execute_result"
    }
   ],
   "source": [
    "df_multipunch[df_multipunch['respValue7'] == 1][df_multipunch['respValue8'] == 1].count()[0]"
   ]
  },
  {
   "cell_type": "code",
   "execution_count": 475,
   "metadata": {},
   "outputs": [
    {
     "name": "stderr",
     "output_type": "stream",
     "text": [
      "/home/eric/anaconda3/lib/python3.7/site-packages/ipykernel_launcher.py:1: UserWarning: Boolean Series key will be reindexed to match DataFrame index.\n",
      "  \"\"\"Entry point for launching an IPython kernel.\n"
     ]
    },
    {
     "data": {
      "text/plain": [
       "13"
      ]
     },
     "execution_count": 475,
     "metadata": {},
     "output_type": "execute_result"
    }
   ],
   "source": [
    "df_multipunch[df_multipunch['respValue7'] == 1][df_multipunch['respValue9'] == 1].count()[0]"
   ]
  },
  {
   "cell_type": "code",
   "execution_count": 476,
   "metadata": {},
   "outputs": [
    {
     "name": "stderr",
     "output_type": "stream",
     "text": [
      "/home/eric/anaconda3/lib/python3.7/site-packages/ipykernel_launcher.py:1: UserWarning: Boolean Series key will be reindexed to match DataFrame index.\n",
      "  \"\"\"Entry point for launching an IPython kernel.\n"
     ]
    },
    {
     "data": {
      "text/plain": [
       "24"
      ]
     },
     "execution_count": 476,
     "metadata": {},
     "output_type": "execute_result"
    }
   ],
   "source": [
    "df_multipunch[df_multipunch['respValue7'] == 1][df_multipunch['respValue10'] == 1].count()[0]"
   ]
  },
  {
   "cell_type": "code",
   "execution_count": 477,
   "metadata": {},
   "outputs": [
    {
     "name": "stderr",
     "output_type": "stream",
     "text": [
      "/home/eric/anaconda3/lib/python3.7/site-packages/ipykernel_launcher.py:1: UserWarning: Boolean Series key will be reindexed to match DataFrame index.\n",
      "  \"\"\"Entry point for launching an IPython kernel.\n"
     ]
    },
    {
     "data": {
      "text/plain": [
       "11"
      ]
     },
     "execution_count": 477,
     "metadata": {},
     "output_type": "execute_result"
    }
   ],
   "source": [
    "df_multipunch[df_multipunch['respValue7'] == 1][df_multipunch['respValue11'] == 1].count()[0]"
   ]
  },
  {
   "cell_type": "code",
   "execution_count": 478,
   "metadata": {},
   "outputs": [
    {
     "name": "stderr",
     "output_type": "stream",
     "text": [
      "/home/eric/anaconda3/lib/python3.7/site-packages/ipykernel_launcher.py:1: UserWarning: Boolean Series key will be reindexed to match DataFrame index.\n",
      "  \"\"\"Entry point for launching an IPython kernel.\n"
     ]
    },
    {
     "data": {
      "text/plain": [
       "0"
      ]
     },
     "execution_count": 478,
     "metadata": {},
     "output_type": "execute_result"
    }
   ],
   "source": [
    "df_multipunch[df_multipunch['respValue7'] == 1][df_multipunch['respValue12'] == 1].count()[0]"
   ]
  },
  {
   "cell_type": "code",
   "execution_count": 479,
   "metadata": {},
   "outputs": [
    {
     "name": "stderr",
     "output_type": "stream",
     "text": [
      "/home/eric/anaconda3/lib/python3.7/site-packages/ipykernel_launcher.py:1: UserWarning: Boolean Series key will be reindexed to match DataFrame index.\n",
      "  \"\"\"Entry point for launching an IPython kernel.\n"
     ]
    },
    {
     "data": {
      "text/plain": [
       "8"
      ]
     },
     "execution_count": 479,
     "metadata": {},
     "output_type": "execute_result"
    }
   ],
   "source": [
    "df_multipunch[df_multipunch['respValue8'] == 1][df_multipunch['respValue9'] == 1].count()[0]"
   ]
  },
  {
   "cell_type": "code",
   "execution_count": 480,
   "metadata": {},
   "outputs": [
    {
     "name": "stderr",
     "output_type": "stream",
     "text": [
      "/home/eric/anaconda3/lib/python3.7/site-packages/ipykernel_launcher.py:1: UserWarning: Boolean Series key will be reindexed to match DataFrame index.\n",
      "  \"\"\"Entry point for launching an IPython kernel.\n"
     ]
    },
    {
     "data": {
      "text/plain": [
       "2"
      ]
     },
     "execution_count": 480,
     "metadata": {},
     "output_type": "execute_result"
    }
   ],
   "source": [
    "df_multipunch[df_multipunch['respValue8'] == 1][df_multipunch['respValue10'] == 1].count()[0]"
   ]
  },
  {
   "cell_type": "code",
   "execution_count": 481,
   "metadata": {},
   "outputs": [
    {
     "name": "stderr",
     "output_type": "stream",
     "text": [
      "/home/eric/anaconda3/lib/python3.7/site-packages/ipykernel_launcher.py:1: UserWarning: Boolean Series key will be reindexed to match DataFrame index.\n",
      "  \"\"\"Entry point for launching an IPython kernel.\n"
     ]
    },
    {
     "data": {
      "text/plain": [
       "4"
      ]
     },
     "execution_count": 481,
     "metadata": {},
     "output_type": "execute_result"
    }
   ],
   "source": [
    "df_multipunch[df_multipunch['respValue8'] == 1][df_multipunch['respValue11'] == 1].count()[0]"
   ]
  },
  {
   "cell_type": "code",
   "execution_count": 482,
   "metadata": {},
   "outputs": [
    {
     "name": "stderr",
     "output_type": "stream",
     "text": [
      "/home/eric/anaconda3/lib/python3.7/site-packages/ipykernel_launcher.py:1: UserWarning: Boolean Series key will be reindexed to match DataFrame index.\n",
      "  \"\"\"Entry point for launching an IPython kernel.\n"
     ]
    },
    {
     "data": {
      "text/plain": [
       "0"
      ]
     },
     "execution_count": 482,
     "metadata": {},
     "output_type": "execute_result"
    }
   ],
   "source": [
    "df_multipunch[df_multipunch['respValue8'] == 1][df_multipunch['respValue12'] == 1].count()[0]"
   ]
  },
  {
   "cell_type": "code",
   "execution_count": 483,
   "metadata": {},
   "outputs": [
    {
     "name": "stderr",
     "output_type": "stream",
     "text": [
      "/home/eric/anaconda3/lib/python3.7/site-packages/ipykernel_launcher.py:1: UserWarning: Boolean Series key will be reindexed to match DataFrame index.\n",
      "  \"\"\"Entry point for launching an IPython kernel.\n"
     ]
    },
    {
     "data": {
      "text/plain": [
       "6"
      ]
     },
     "execution_count": 483,
     "metadata": {},
     "output_type": "execute_result"
    }
   ],
   "source": [
    "df_multipunch[df_multipunch['respValue9'] == 1][df_multipunch['respValue10'] == 1].count()[0]"
   ]
  },
  {
   "cell_type": "code",
   "execution_count": 484,
   "metadata": {},
   "outputs": [
    {
     "name": "stderr",
     "output_type": "stream",
     "text": [
      "/home/eric/anaconda3/lib/python3.7/site-packages/ipykernel_launcher.py:1: UserWarning: Boolean Series key will be reindexed to match DataFrame index.\n",
      "  \"\"\"Entry point for launching an IPython kernel.\n"
     ]
    },
    {
     "data": {
      "text/plain": [
       "2"
      ]
     },
     "execution_count": 484,
     "metadata": {},
     "output_type": "execute_result"
    }
   ],
   "source": [
    "df_multipunch[df_multipunch['respValue9'] == 1][df_multipunch['respValue11'] == 1].count()[0]"
   ]
  },
  {
   "cell_type": "code",
   "execution_count": 485,
   "metadata": {},
   "outputs": [
    {
     "name": "stderr",
     "output_type": "stream",
     "text": [
      "/home/eric/anaconda3/lib/python3.7/site-packages/ipykernel_launcher.py:1: UserWarning: Boolean Series key will be reindexed to match DataFrame index.\n",
      "  \"\"\"Entry point for launching an IPython kernel.\n"
     ]
    },
    {
     "data": {
      "text/plain": [
       "0"
      ]
     },
     "execution_count": 485,
     "metadata": {},
     "output_type": "execute_result"
    }
   ],
   "source": [
    "df_multipunch[df_multipunch['respValue9'] == 1][df_multipunch['respValue12'] == 1].count()[0]"
   ]
  },
  {
   "cell_type": "code",
   "execution_count": 486,
   "metadata": {},
   "outputs": [
    {
     "name": "stderr",
     "output_type": "stream",
     "text": [
      "/home/eric/anaconda3/lib/python3.7/site-packages/ipykernel_launcher.py:1: UserWarning: Boolean Series key will be reindexed to match DataFrame index.\n",
      "  \"\"\"Entry point for launching an IPython kernel.\n"
     ]
    },
    {
     "data": {
      "text/plain": [
       "1"
      ]
     },
     "execution_count": 486,
     "metadata": {},
     "output_type": "execute_result"
    }
   ],
   "source": [
    "df_multipunch[df_multipunch['respValue10'] == 1][df_multipunch['respValue11'] == 1].count()[0]"
   ]
  },
  {
   "cell_type": "code",
   "execution_count": 489,
   "metadata": {},
   "outputs": [
    {
     "name": "stderr",
     "output_type": "stream",
     "text": [
      "/home/eric/anaconda3/lib/python3.7/site-packages/ipykernel_launcher.py:1: UserWarning: Boolean Series key will be reindexed to match DataFrame index.\n",
      "  \"\"\"Entry point for launching an IPython kernel.\n"
     ]
    },
    {
     "data": {
      "text/plain": [
       "0"
      ]
     },
     "execution_count": 489,
     "metadata": {},
     "output_type": "execute_result"
    }
   ],
   "source": [
    "df_multipunch[df_multipunch['respValue10'] == 1][df_multipunch['respValue12'] == 1].count()[0]"
   ]
  },
  {
   "cell_type": "code",
   "execution_count": 488,
   "metadata": {},
   "outputs": [
    {
     "name": "stderr",
     "output_type": "stream",
     "text": [
      "/home/eric/anaconda3/lib/python3.7/site-packages/ipykernel_launcher.py:1: UserWarning: Boolean Series key will be reindexed to match DataFrame index.\n",
      "  \"\"\"Entry point for launching an IPython kernel.\n"
     ]
    },
    {
     "data": {
      "text/plain": [
       "0"
      ]
     },
     "execution_count": 488,
     "metadata": {},
     "output_type": "execute_result"
    }
   ],
   "source": [
    "df_multipunch[df_multipunch['respValue11'] == 1][df_multipunch['respValue12'] == 1].count()[0]"
   ]
  },
  {
   "cell_type": "code",
   "execution_count": 447,
   "metadata": {},
   "outputs": [
    {
     "data": {
      "text/html": [
       "<div>\n",
       "<style scoped>\n",
       "    .dataframe tbody tr th:only-of-type {\n",
       "        vertical-align: middle;\n",
       "    }\n",
       "\n",
       "    .dataframe tbody tr th {\n",
       "        vertical-align: top;\n",
       "    }\n",
       "\n",
       "    .dataframe thead th {\n",
       "        text-align: right;\n",
       "    }\n",
       "</style>\n",
       "<table border=\"1\" class=\"dataframe\">\n",
       "  <thead>\n",
       "    <tr style=\"text-align: right;\">\n",
       "      <th></th>\n",
       "      <th>id</th>\n",
       "      <th>gender</th>\n",
       "      <th>generation</th>\n",
       "      <th>location</th>\n",
       "      <th>org</th>\n",
       "      <th>focus</th>\n",
       "      <th>qtype</th>\n",
       "      <th>question</th>\n",
       "      <th>wording</th>\n",
       "      <th>respValue</th>\n",
       "      <th>respLabel</th>\n",
       "    </tr>\n",
       "  </thead>\n",
       "  <tbody>\n",
       "    <tr>\n",
       "      <th>0</th>\n",
       "      <td>1</td>\n",
       "      <td>Female</td>\n",
       "      <td>30-49</td>\n",
       "      <td>No answer (International)</td>\n",
       "      <td>NGO - girls/women's rights ARE sole focus</td>\n",
       "      <td>International</td>\n",
       "      <td>Multi-punch</td>\n",
       "      <td>What should be the three biggest priorities today in relation to gender equality?</td>\n",
       "      <td>1= top 3 priority; 0=not a top priority</td>\n",
       "      <td>1</td>\n",
       "      <td>Sexual and reproductive health and rights</td>\n",
       "    </tr>\n",
       "    <tr>\n",
       "      <th>1</th>\n",
       "      <td>1</td>\n",
       "      <td>Female</td>\n",
       "      <td>30-49</td>\n",
       "      <td>No answer (International)</td>\n",
       "      <td>NGO - girls/women's rights ARE sole focus</td>\n",
       "      <td>International</td>\n",
       "      <td>Multi-punch</td>\n",
       "      <td>What should be the three biggest priorities today in relation to gender equality?</td>\n",
       "      <td>1= top 3 priority; 0=not a top priority</td>\n",
       "      <td>0</td>\n",
       "      <td>Access to comprehensive health services</td>\n",
       "    </tr>\n",
       "    <tr>\n",
       "      <th>2</th>\n",
       "      <td>1</td>\n",
       "      <td>Female</td>\n",
       "      <td>30-49</td>\n",
       "      <td>No answer (International)</td>\n",
       "      <td>NGO - girls/women's rights ARE sole focus</td>\n",
       "      <td>International</td>\n",
       "      <td>Multi-punch</td>\n",
       "      <td>What should be the three biggest priorities today in relation to gender equality?</td>\n",
       "      <td>1= top 3 priority; 0=not a top priority</td>\n",
       "      <td>0</td>\n",
       "      <td>Reducing gender-based violence</td>\n",
       "    </tr>\n",
       "    <tr>\n",
       "      <th>3</th>\n",
       "      <td>1</td>\n",
       "      <td>Female</td>\n",
       "      <td>30-49</td>\n",
       "      <td>No answer (International)</td>\n",
       "      <td>NGO - girls/women's rights ARE sole focus</td>\n",
       "      <td>International</td>\n",
       "      <td>Multi-punch</td>\n",
       "      <td>What should be the three biggest priorities today in relation to gender equality?</td>\n",
       "      <td>1= top 3 priority; 0=not a top priority</td>\n",
       "      <td>1</td>\n",
       "      <td>Equitable and quality education at all levels</td>\n",
       "    </tr>\n",
       "    <tr>\n",
       "      <th>4</th>\n",
       "      <td>1</td>\n",
       "      <td>Female</td>\n",
       "      <td>30-49</td>\n",
       "      <td>No answer (International)</td>\n",
       "      <td>NGO - girls/women's rights ARE sole focus</td>\n",
       "      <td>International</td>\n",
       "      <td>Multi-punch</td>\n",
       "      <td>What should be the three biggest priorities today in relation to gender equality?</td>\n",
       "      <td>1= top 3 priority; 0=not a top priority</td>\n",
       "      <td>0</td>\n",
       "      <td>Economic empowerment, access to land and financial inclusion</td>\n",
       "    </tr>\n",
       "  </tbody>\n",
       "</table>\n",
       "</div>"
      ],
      "text/plain": [
       "   id  gender generation                   location  \\\n",
       "0   1  Female      30-49  No answer (International)   \n",
       "1   1  Female      30-49  No answer (International)   \n",
       "2   1  Female      30-49  No answer (International)   \n",
       "3   1  Female      30-49  No answer (International)   \n",
       "4   1  Female      30-49  No answer (International)   \n",
       "\n",
       "                                         org          focus        qtype  \\\n",
       "0  NGO - girls/women's rights ARE sole focus  International  Multi-punch   \n",
       "1  NGO - girls/women's rights ARE sole focus  International  Multi-punch   \n",
       "2  NGO - girls/women's rights ARE sole focus  International  Multi-punch   \n",
       "3  NGO - girls/women's rights ARE sole focus  International  Multi-punch   \n",
       "4  NGO - girls/women's rights ARE sole focus  International  Multi-punch   \n",
       "\n",
       "                                                                            question  \\\n",
       "0  What should be the three biggest priorities today in relation to gender equality?   \n",
       "1  What should be the three biggest priorities today in relation to gender equality?   \n",
       "2  What should be the three biggest priorities today in relation to gender equality?   \n",
       "3  What should be the three biggest priorities today in relation to gender equality?   \n",
       "4  What should be the three biggest priorities today in relation to gender equality?   \n",
       "\n",
       "                                   wording  respValue  \\\n",
       "0  1= top 3 priority; 0=not a top priority          1   \n",
       "1  1= top 3 priority; 0=not a top priority          0   \n",
       "2  1= top 3 priority; 0=not a top priority          0   \n",
       "3  1= top 3 priority; 0=not a top priority          1   \n",
       "4  1= top 3 priority; 0=not a top priority          0   \n",
       "\n",
       "                                                      respLabel  \n",
       "0                     Sexual and reproductive health and rights  \n",
       "1                       Access to comprehensive health services  \n",
       "2                                Reducing gender-based violence  \n",
       "3                 Equitable and quality education at all levels  \n",
       "4  Economic empowerment, access to land and financial inclusion  "
      ]
     },
     "execution_count": 447,
     "metadata": {},
     "output_type": "execute_result"
    }
   ],
   "source": [
    "df.head()"
   ]
  },
  {
   "cell_type": "code",
   "execution_count": 448,
   "metadata": {},
   "outputs": [
    {
     "data": {
      "text/plain": [
       "Index(['id', 'gender', 'generation', 'location', 'org', 'focus', 'qtype',\n",
       "       'question', 'wording', 'respValue', 'respLabel'],\n",
       "      dtype='object')"
      ]
     },
     "execution_count": 448,
     "metadata": {},
     "output_type": "execute_result"
    }
   ],
   "source": [
    "df.columns"
   ]
  }
 ],
 "metadata": {
  "kernelspec": {
   "display_name": "Python 3",
   "language": "python",
   "name": "python3"
  },
  "language_info": {
   "codemirror_mode": {
    "name": "ipython",
    "version": 3
   },
   "file_extension": ".py",
   "mimetype": "text/x-python",
   "name": "python",
   "nbconvert_exporter": "python",
   "pygments_lexer": "ipython3",
   "version": "3.7.0"
  }
 },
 "nbformat": 4,
 "nbformat_minor": 2
}
